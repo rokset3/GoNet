{
 "cells": [
  {
   "cell_type": "code",
   "execution_count": 2,
   "metadata": {},
   "outputs": [],
   "source": [
    "import os \n",
    "\n",
    "import pandas as pd\n",
    "import matplotlib.pyplot as plt\n",
    "import numpy as np\n",
    "import seaborn as sns"
   ]
  },
  {
   "cell_type": "markdown",
   "metadata": {},
   "source": [
    "### Working with one file"
   ]
  },
  {
   "cell_type": "code",
   "execution_count": 3,
   "metadata": {},
   "outputs": [],
   "source": [
    "keys_df = pd.read_csv('data/files/5_keystrokes.txt', sep='\\t')"
   ]
  },
  {
   "cell_type": "markdown",
   "metadata": {},
   "source": [
    "Notes:\n",
    "\n",
    "$PT_t$ -> Press Time at timestep t\\\n",
    "$RT_t$ -> Release Time at timestamp t\n",
    "\n",
    "* In paper they used four latency features:\n",
    "* * Hold Latency                      \n",
    "* * Inter-key Latency\n",
    "* * Press Latency\n",
    "* * Release Latency\n",
    "\n",
    "$$\n",
    "HL = RT_t - PT_t \\\\\n",
    "IL = PT_t - RT_{t-1} \\\\\n",
    "PL = PT_t - PT_{t-1} \\\\\n",
    "RL = RT_t - RT_{t-1}\n",
    "$$\n",
    "\n",
    "So for a sequence with timestamp T we will collect t-1 latency features"
   ]
  },
  {
   "cell_type": "code",
   "execution_count": 4,
   "metadata": {},
   "outputs": [],
   "source": [
    "pd.set_option('mode.chained_assignment', None)\n",
    "\n",
    "section_ids = keys_df['TEST_SECTION_ID'].unique().tolist()\n",
    "keys_df_example = keys_df[keys_df['TEST_SECTION_ID'] == section_ids[0]]\n",
    "\n",
    "keys_df_example['PRESS_TIME_lag'] = keys_df_example['PRESS_TIME'].shift(1)\n",
    "keys_df_example['PRESS_TIME_lag'] = np.where(keys_df_example['PRESS_TIME_lag'].isna(), keys_df_example['PRESS_TIME'], keys_df_example['PRESS_TIME_lag'])\n",
    "\n",
    "keys_df_example['RELEASE_TIME_lag'] = keys_df_example['RELEASE_TIME'].shift(1)\n",
    "keys_df_example['RELEASE_TIME_lag'] = np.where(keys_df_example['RELEASE_TIME_lag'].isna(), keys_df_example['RELEASE_TIME'], keys_df_example['RELEASE_TIME_lag'])\n",
    "\n",
    "keys_df_example['PRESS_TIME_lag'] = keys_df_example['PRESS_TIME_lag'].astype('int64')\n",
    "keys_df_example['RELEASE_TIME_lag'] = keys_df_example['RELEASE_TIME_lag'].astype('int64')"
   ]
  },
  {
   "cell_type": "code",
   "execution_count": 5,
   "metadata": {},
   "outputs": [],
   "source": [
    "keys_df_example['HL'] =  keys_df_example['RELEASE_TIME'] - keys_df_example['PRESS_TIME']\n",
    "keys_df_example['IL'] = keys_df_example['PRESS_TIME'] - keys_df_example['RELEASE_TIME_lag']\n",
    "keys_df_example['PL'] = keys_df_example['PRESS_TIME'] - keys_df_example['PRESS_TIME_lag']\n",
    "keys_df_example['RL'] = keys_df_example['RELEASE_TIME'] - keys_df_example['RELEASE_TIME_lag']"
   ]
  },
  {
   "cell_type": "code",
   "execution_count": 6,
   "metadata": {},
   "outputs": [
    {
     "data": {
      "text/plain": [
       "7"
      ]
     },
     "execution_count": 6,
     "metadata": {},
     "output_type": "execute_result"
    }
   ],
   "source": [
    "keys_df_example.TEST_SECTION_ID.unique()[0]"
   ]
  },
  {
   "cell_type": "code",
   "execution_count": 7,
   "metadata": {},
   "outputs": [],
   "source": [
    "from preprocessing_utils import extract_latency_features_from_df as p"
   ]
  },
  {
   "cell_type": "code",
   "execution_count": 8,
   "metadata": {},
   "outputs": [],
   "source": [
    "test_case = keys_df[keys_df['TEST_SECTION_ID'] == section_ids[1]]"
   ]
  },
  {
   "cell_type": "code",
   "execution_count": 9,
   "metadata": {},
   "outputs": [],
   "source": [
    "output = p(test_case,\n",
    " 'PRESS_TIME',\n",
    " 'RELEASE_TIME',\n",
    " 'KEYCODE',\n",
    " 'PARTICIPANT_ID',\n",
    " 'TEST_SECTION_ID')"
   ]
  },
  {
   "cell_type": "code",
   "execution_count": 10,
   "metadata": {},
   "outputs": [
    {
     "data": {
      "text/plain": [
       "(47, 47, 47, 47, 47)"
      ]
     },
     "execution_count": 10,
     "metadata": {},
     "output_type": "execute_result"
    }
   ],
   "source": [
    "(len(output['keycode_ids']),\n",
    "len(output['hl']),\n",
    "len(output['il']),\n",
    "len(output['pl']),\n",
    "len(output['rl']) )"
   ]
  },
  {
   "cell_type": "markdown",
   "metadata": {},
   "source": [
    "### Extracting features from entire dataset & saving in one format"
   ]
  },
  {
   "cell_type": "code",
   "execution_count": 11,
   "metadata": {},
   "outputs": [],
   "source": [
    "def find_bad_data(df):\n",
    "    if any(df.isna().sum().drop('LETTER') > 0):\n",
    "        return 1\n",
    "    else:\n",
    "        return 0\n",
    "    \n",
    "    \n",
    "def frac_of_keycode_nan(df):\n",
    "    tot = df.shape[0]\n",
    "    nan_num = df.KEYCODE.isna().sum()\n",
    "    if tot == 0:\n",
    "        return 0.0\n",
    "    return nan_num/tot\n",
    "\n",
    "def check_stuff(df):\n",
    "    output = dict(\n",
    "        is_bad = find_bad_data(df),\n",
    "        frac_nan_kc = frac_of_keycode(nan(df))    )"
   ]
  },
  {
   "cell_type": "code",
   "execution_count": 12,
   "metadata": {},
   "outputs": [],
   "source": [
    "meta_df = pd.read_csv('data/metadata_participants.txt', sep='\\t')\n",
    "meta_df = meta_df[meta_df['LAYOUT'] =='qwerty']\n",
    "meta_df = meta_df[meta_df['KEYBOARD_TYPE'].isin(['full', 'laptop'])]\n",
    "\n",
    "\n",
    "ids_of_interest = meta_df['PARTICIPANT_ID'].tolist()"
   ]
  },
  {
   "cell_type": "code",
   "execution_count": 13,
   "metadata": {},
   "outputs": [],
   "source": [
    "# reading all of the files, that are were typed in qwerty and on laptop/pc\n",
    "keystrokes_data_files = [f'{i}_keystrokes.txt' for i in ids_of_interest]\n",
    "keystrokes_real_files = os.listdir('data/files/')\n",
    "\n",
    "keystrokes_data_files = sorted(list(set(keystrokes_data_files).intersection(set(keystrokes_real_files))))"
   ]
  },
  {
   "cell_type": "code",
   "execution_count": 14,
   "metadata": {
    "tags": []
   },
   "outputs": [
    {
     "name": "stderr",
     "output_type": "stream",
     "text": [
      "100%|██████████| 162056/162056 [25:46<00:00, 104.81it/s] \n"
     ]
    },
    {
     "data": {
      "text/plain": [
       "6048"
      ]
     },
     "execution_count": 14,
     "metadata": {},
     "output_type": "execute_result"
    }
   ],
   "source": [
    "from tqdm import tqdm\n",
    "dataframes = []\n",
    "failed_files = []\n",
    "for path in tqdm(keystrokes_data_files):\n",
    "    data_path = os.path.join(os.getcwd(), fr'data/files/{path}')\n",
    "    try:\n",
    "        df = pd.read_csv(data_path, sep='\\t')\n",
    "        for id in sorted(df.TEST_SECTION_ID.unique()):\n",
    "            curr_df = df[df.TEST_SECTION_ID == id]\n",
    "            dataframes.append(curr_df)\n",
    "    except:\n",
    "        failed_files.append(data_path)\n",
    "\n",
    "\n",
    "len(failed_files)"
   ]
  },
  {
   "cell_type": "code",
   "execution_count": 15,
   "metadata": {},
   "outputs": [],
   "source": [
    "final_dataset = pd.DataFrame()\n",
    "final_dataset['frames'] = dataframes "
   ]
  },
  {
   "cell_type": "code",
   "execution_count": 22,
   "metadata": {},
   "outputs": [
    {
     "name": "stdout",
     "output_type": "stream",
     "text": [
      "INFO: Pandarallel will run on 24 workers.\n",
      "INFO: Pandarallel will use Memory file system to transfer data between the main process and workers.\n"
     ]
    }
   ],
   "source": [
    "from pandarallel import pandarallel\n",
    "pandarallel.initialize(progress_bar=True)"
   ]
  },
  {
   "cell_type": "code",
   "execution_count": 25,
   "metadata": {},
   "outputs": [
    {
     "data": {
      "application/vnd.jupyter.widget-view+json": {
       "model_id": "a286de5b35bd4f1086b9dd63481a839d",
       "version_major": 2,
       "version_minor": 0
      },
      "text/plain": [
       "VBox(children=(HBox(children=(IntProgress(value=0, description='0.00%', max=97478), Label(value='0 / 97478')))…"
      ]
     },
     "metadata": {},
     "output_type": "display_data"
    },
    {
     "data": {
      "application/vnd.jupyter.widget-view+json": {
       "model_id": "2c4426af1ec84571add7a4ddd76ef5e0",
       "version_major": 2,
       "version_minor": 0
      },
      "text/plain": [
       "VBox(children=(HBox(children=(IntProgress(value=0, description='0.00%', max=97478), Label(value='0 / 97478')))…"
      ]
     },
     "metadata": {},
     "output_type": "display_data"
    }
   ],
   "source": [
    "final_dataset['is_bad'] = final_dataset.frames.parallel_apply(find_bad_data)\n",
    "final_dataset['keycode_nan_frac'] = final_dataset.frames.parallel_apply(frac_of_keycode_nan)"
   ]
  },
  {
   "cell_type": "code",
   "execution_count": 29,
   "metadata": {},
   "outputs": [],
   "source": [
    "final_dataset = final_dataset[final_dataset['is_bad'] == 0]"
   ]
  },
  {
   "cell_type": "code",
   "execution_count": 36,
   "metadata": {},
   "outputs": [
    {
     "name": "stdout",
     "output_type": "stream",
     "text": [
      "0.011% datapoints lostlost \n",
      "2339211 keystrokes in final dataset\n"
     ]
    }
   ],
   "source": [
    "print(f'{100 - final_dataset.shape[0]/len(dataframes) * 100 :.3f}% datapoints lostlost ')\n",
    "print(f'{final_dataset.shape[0]} keystrokes in final dataset')"
   ]
  },
  {
   "cell_type": "code",
   "execution_count": 37,
   "metadata": {},
   "outputs": [
    {
     "data": {
      "application/vnd.jupyter.widget-view+json": {
       "model_id": "4251f7c745dc466ea2133e9db3486a29",
       "version_major": 2,
       "version_minor": 0
      },
      "text/plain": [
       "VBox(children=(HBox(children=(IntProgress(value=0, description='0.00%', max=97468), Label(value='0 / 97468')))…"
      ]
     },
     "metadata": {},
     "output_type": "display_data"
    }
   ],
   "source": [
    "features_df = final_dataset.parallel_apply(lambda x: p(x.frames,\n",
    "                                                        'PRESS_TIME',\n",
    "                                                        'RELEASE_TIME',\n",
    "                                                        'KEYCODE',\n",
    "                                                        'PARTICIPANT_ID',\n",
    "                                                        'TEST_SECTION_ID'),\n",
    "                                            axis='columns',\n",
    "                                            result_type='expand')"
   ]
  },
  {
   "cell_type": "code",
   "execution_count": 44,
   "metadata": {},
   "outputs": [],
   "source": [
    "features_df['participant_id'] = features_df['participant_id'].astype('int64')"
   ]
  },
  {
   "cell_type": "markdown",
   "metadata": {},
   "source": [
    "### Saving dataset in huggingface"
   ]
  },
  {
   "cell_type": "code",
   "execution_count": 49,
   "metadata": {},
   "outputs": [],
   "source": [
    "from datasets import Dataset"
   ]
  },
  {
   "cell_type": "code",
   "execution_count": 54,
   "metadata": {},
   "outputs": [],
   "source": [
    "dataset_136Mkeystrokes_features = Dataset.from_pandas(features_df)\n",
    "dataset_136Mkeystrokes_features = dataset_136Mkeystrokes_features.remove_columns('__index_level_0__')"
   ]
  },
  {
   "cell_type": "code",
   "execution_count": 55,
   "metadata": {},
   "outputs": [
    {
     "data": {
      "text/plain": [
       "Dataset({\n",
       "    features: ['participant_id', 'section_id', 'keycode_ids', 'hl', 'il', 'pl', 'rl'],\n",
       "    num_rows: 2339211\n",
       "})"
      ]
     },
     "execution_count": 55,
     "metadata": {},
     "output_type": "execute_result"
    }
   ],
   "source": [
    "dataset_136Mkeystrokes_features"
   ]
  },
  {
   "cell_type": "code",
   "execution_count": 57,
   "metadata": {},
   "outputs": [],
   "source": [
    "import huggingface_hub"
   ]
  },
  {
   "cell_type": "code",
   "execution_count": 58,
   "metadata": {},
   "outputs": [
    {
     "data": {
      "application/vnd.jupyter.widget-view+json": {
       "model_id": "6f0354f7596744fc9554204d1049a1a0",
       "version_major": 2,
       "version_minor": 0
      },
      "text/plain": [
       "VBox(children=(HTML(value='<center> <img\\nsrc=https://huggingface.co/front/assets/huggingface_logo-noborder.sv…"
      ]
     },
     "metadata": {},
     "output_type": "display_data"
    }
   ],
   "source": [
    "huggingface_hub.login()"
   ]
  },
  {
   "cell_type": "code",
   "execution_count": 59,
   "metadata": {},
   "outputs": [
    {
     "data": {
      "application/vnd.jupyter.widget-view+json": {
       "model_id": "d21c5b274b044c9d8143e89dc588318e",
       "version_major": 2,
       "version_minor": 0
      },
      "text/plain": [
       "Pushing dataset shards to the dataset hub:   0%|          | 0/10 [00:00<?, ?it/s]"
      ]
     },
     "metadata": {},
     "output_type": "display_data"
    },
    {
     "data": {
      "application/vnd.jupyter.widget-view+json": {
       "model_id": "7592434fa432473fb57cd06892e033e1",
       "version_major": 2,
       "version_minor": 0
      },
      "text/plain": [
       "Creating parquet from Arrow format:   0%|          | 0/234 [00:00<?, ?ba/s]"
      ]
     },
     "metadata": {},
     "output_type": "display_data"
    },
    {
     "data": {
      "application/vnd.jupyter.widget-view+json": {
       "model_id": "4fb629db12ff449b82211b33fced7367",
       "version_major": 2,
       "version_minor": 0
      },
      "text/plain": [
       "Creating parquet from Arrow format:   0%|          | 0/234 [00:00<?, ?ba/s]"
      ]
     },
     "metadata": {},
     "output_type": "display_data"
    },
    {
     "data": {
      "application/vnd.jupyter.widget-view+json": {
       "model_id": "b39b0a7f38a140e985339c3656ba3221",
       "version_major": 2,
       "version_minor": 0
      },
      "text/plain": [
       "Upload 1 LFS files:   0%|          | 0/1 [00:00<?, ?it/s]"
      ]
     },
     "metadata": {},
     "output_type": "display_data"
    },
    {
     "data": {
      "application/vnd.jupyter.widget-view+json": {
       "model_id": "3f3c4579607140e88a3b76d24fe95283",
       "version_major": 2,
       "version_minor": 0
      },
      "text/plain": [
       "Creating parquet from Arrow format:   0%|          | 0/234 [00:00<?, ?ba/s]"
      ]
     },
     "metadata": {},
     "output_type": "display_data"
    },
    {
     "data": {
      "application/vnd.jupyter.widget-view+json": {
       "model_id": "e82e22b626ba4cbe8520b5833c5bf870",
       "version_major": 2,
       "version_minor": 0
      },
      "text/plain": [
       "Upload 1 LFS files:   0%|          | 0/1 [00:00<?, ?it/s]"
      ]
     },
     "metadata": {},
     "output_type": "display_data"
    },
    {
     "data": {
      "application/vnd.jupyter.widget-view+json": {
       "model_id": "f0e9022a016e456ba2f51c5726d7ebc0",
       "version_major": 2,
       "version_minor": 0
      },
      "text/plain": [
       "Creating parquet from Arrow format:   0%|          | 0/234 [00:00<?, ?ba/s]"
      ]
     },
     "metadata": {},
     "output_type": "display_data"
    },
    {
     "data": {
      "application/vnd.jupyter.widget-view+json": {
       "model_id": "1ef901ce4a644de2a49a4c89c70ab7db",
       "version_major": 2,
       "version_minor": 0
      },
      "text/plain": [
       "Upload 1 LFS files:   0%|          | 0/1 [00:00<?, ?it/s]"
      ]
     },
     "metadata": {},
     "output_type": "display_data"
    },
    {
     "data": {
      "application/vnd.jupyter.widget-view+json": {
       "model_id": "658e296c791b4639be38af7da958dbca",
       "version_major": 2,
       "version_minor": 0
      },
      "text/plain": [
       "Creating parquet from Arrow format:   0%|          | 0/234 [00:00<?, ?ba/s]"
      ]
     },
     "metadata": {},
     "output_type": "display_data"
    },
    {
     "data": {
      "application/vnd.jupyter.widget-view+json": {
       "model_id": "374eed53294d427b8c2147b271a1d011",
       "version_major": 2,
       "version_minor": 0
      },
      "text/plain": [
       "Upload 1 LFS files:   0%|          | 0/1 [00:00<?, ?it/s]"
      ]
     },
     "metadata": {},
     "output_type": "display_data"
    },
    {
     "data": {
      "application/vnd.jupyter.widget-view+json": {
       "model_id": "b7d40a4bdd754a0c9406f052c0409faa",
       "version_major": 2,
       "version_minor": 0
      },
      "text/plain": [
       "Creating parquet from Arrow format:   0%|          | 0/234 [00:00<?, ?ba/s]"
      ]
     },
     "metadata": {},
     "output_type": "display_data"
    },
    {
     "data": {
      "application/vnd.jupyter.widget-view+json": {
       "model_id": "b7a92a3a92b84c33b7f080bf094b06c9",
       "version_major": 2,
       "version_minor": 0
      },
      "text/plain": [
       "Upload 1 LFS files:   0%|          | 0/1 [00:00<?, ?it/s]"
      ]
     },
     "metadata": {},
     "output_type": "display_data"
    },
    {
     "data": {
      "application/vnd.jupyter.widget-view+json": {
       "model_id": "29308ca3827c44289c198015ac557345",
       "version_major": 2,
       "version_minor": 0
      },
      "text/plain": [
       "Creating parquet from Arrow format:   0%|          | 0/234 [00:00<?, ?ba/s]"
      ]
     },
     "metadata": {},
     "output_type": "display_data"
    },
    {
     "data": {
      "application/vnd.jupyter.widget-view+json": {
       "model_id": "2b79db61df44493eb731e8622bea9434",
       "version_major": 2,
       "version_minor": 0
      },
      "text/plain": [
       "Upload 1 LFS files:   0%|          | 0/1 [00:00<?, ?it/s]"
      ]
     },
     "metadata": {},
     "output_type": "display_data"
    },
    {
     "data": {
      "application/vnd.jupyter.widget-view+json": {
       "model_id": "edefefe5ba6d42958345bc2fe9230e3a",
       "version_major": 2,
       "version_minor": 0
      },
      "text/plain": [
       "Creating parquet from Arrow format:   0%|          | 0/234 [00:00<?, ?ba/s]"
      ]
     },
     "metadata": {},
     "output_type": "display_data"
    },
    {
     "data": {
      "application/vnd.jupyter.widget-view+json": {
       "model_id": "2a2c0a814476457ca0c31dc98538e0de",
       "version_major": 2,
       "version_minor": 0
      },
      "text/plain": [
       "Upload 1 LFS files:   0%|          | 0/1 [00:00<?, ?it/s]"
      ]
     },
     "metadata": {},
     "output_type": "display_data"
    },
    {
     "data": {
      "application/vnd.jupyter.widget-view+json": {
       "model_id": "e2508d6d82cf4d26b26ed14833f5fe99",
       "version_major": 2,
       "version_minor": 0
      },
      "text/plain": [
       "Creating parquet from Arrow format:   0%|          | 0/234 [00:00<?, ?ba/s]"
      ]
     },
     "metadata": {},
     "output_type": "display_data"
    },
    {
     "data": {
      "application/vnd.jupyter.widget-view+json": {
       "model_id": "16bfb52b5be7465c85b8986a8b648c86",
       "version_major": 2,
       "version_minor": 0
      },
      "text/plain": [
       "Upload 1 LFS files:   0%|          | 0/1 [00:00<?, ?it/s]"
      ]
     },
     "metadata": {},
     "output_type": "display_data"
    },
    {
     "data": {
      "application/vnd.jupyter.widget-view+json": {
       "model_id": "6033f8705b2243d48931008957d4ff97",
       "version_major": 2,
       "version_minor": 0
      },
      "text/plain": [
       "Creating parquet from Arrow format:   0%|          | 0/234 [00:00<?, ?ba/s]"
      ]
     },
     "metadata": {},
     "output_type": "display_data"
    },
    {
     "data": {
      "application/vnd.jupyter.widget-view+json": {
       "model_id": "455299abf4394b6abe6e38df52197533",
       "version_major": 2,
       "version_minor": 0
      },
      "text/plain": [
       "Upload 1 LFS files:   0%|          | 0/1 [00:00<?, ?it/s]"
      ]
     },
     "metadata": {},
     "output_type": "display_data"
    }
   ],
   "source": [
    "dataset_136Mkeystrokes_features.push_to_hub('rokset3/136Mkeystrokes_features')"
   ]
  },
  {
   "cell_type": "code",
   "execution_count": 72,
   "metadata": {},
   "outputs": [],
   "source": [
    "final_dataset_concat = pd.concat(final_dataset.frames.tolist())"
   ]
  },
  {
   "cell_type": "code",
   "execution_count": 77,
   "metadata": {},
   "outputs": [
    {
     "data": {
      "text/html": [
       "<div>\n",
       "<style scoped>\n",
       "    .dataframe tbody tr th:only-of-type {\n",
       "        vertical-align: middle;\n",
       "    }\n",
       "\n",
       "    .dataframe tbody tr th {\n",
       "        vertical-align: top;\n",
       "    }\n",
       "\n",
       "    .dataframe thead th {\n",
       "        text-align: right;\n",
       "    }\n",
       "</style>\n",
       "<table border=\"1\" class=\"dataframe\">\n",
       "  <thead>\n",
       "    <tr style=\"text-align: right;\">\n",
       "      <th></th>\n",
       "      <th>PARTICIPANT_ID</th>\n",
       "      <th>TEST_SECTION_ID</th>\n",
       "      <th>SENTENCE</th>\n",
       "      <th>USER_INPUT</th>\n",
       "      <th>KEYSTROKE_ID</th>\n",
       "      <th>PRESS_TIME</th>\n",
       "      <th>RELEASE_TIME</th>\n",
       "      <th>LETTER</th>\n",
       "      <th>KEYCODE</th>\n",
       "    </tr>\n",
       "  </thead>\n",
       "  <tbody>\n",
       "    <tr>\n",
       "      <th>0</th>\n",
       "      <td>100001.0</td>\n",
       "      <td>1090979</td>\n",
       "      <td>Was wondering if you and Natalie connected?</td>\n",
       "      <td>Was wondering if you and Natalie connected?</td>\n",
       "      <td>51891207.0</td>\n",
       "      <td>1.473275e+12</td>\n",
       "      <td>1.473275e+12</td>\n",
       "      <td>SHIFT</td>\n",
       "      <td>16.0</td>\n",
       "    </tr>\n",
       "    <tr>\n",
       "      <th>1</th>\n",
       "      <td>100001.0</td>\n",
       "      <td>1090979</td>\n",
       "      <td>Was wondering if you and Natalie connected?</td>\n",
       "      <td>Was wondering if you and Natalie connected?</td>\n",
       "      <td>51891214.0</td>\n",
       "      <td>1.473275e+12</td>\n",
       "      <td>1.473275e+12</td>\n",
       "      <td>W</td>\n",
       "      <td>87.0</td>\n",
       "    </tr>\n",
       "    <tr>\n",
       "      <th>2</th>\n",
       "      <td>100001.0</td>\n",
       "      <td>1090979</td>\n",
       "      <td>Was wondering if you and Natalie connected?</td>\n",
       "      <td>Was wondering if you and Natalie connected?</td>\n",
       "      <td>51891219.0</td>\n",
       "      <td>1.473275e+12</td>\n",
       "      <td>1.473275e+12</td>\n",
       "      <td>a</td>\n",
       "      <td>65.0</td>\n",
       "    </tr>\n",
       "    <tr>\n",
       "      <th>3</th>\n",
       "      <td>100001.0</td>\n",
       "      <td>1090979</td>\n",
       "      <td>Was wondering if you and Natalie connected?</td>\n",
       "      <td>Was wondering if you and Natalie connected?</td>\n",
       "      <td>51891226.0</td>\n",
       "      <td>1.473275e+12</td>\n",
       "      <td>1.473275e+12</td>\n",
       "      <td>s</td>\n",
       "      <td>83.0</td>\n",
       "    </tr>\n",
       "    <tr>\n",
       "      <th>4</th>\n",
       "      <td>100001.0</td>\n",
       "      <td>1090979</td>\n",
       "      <td>Was wondering if you and Natalie connected?</td>\n",
       "      <td>Was wondering if you and Natalie connected?</td>\n",
       "      <td>51891231.0</td>\n",
       "      <td>1.473275e+12</td>\n",
       "      <td>1.473275e+12</td>\n",
       "      <td></td>\n",
       "      <td>32.0</td>\n",
       "    </tr>\n",
       "    <tr>\n",
       "      <th>...</th>\n",
       "      <td>...</td>\n",
       "      <td>...</td>\n",
       "      <td>...</td>\n",
       "      <td>...</td>\n",
       "      <td>...</td>\n",
       "      <td>...</td>\n",
       "      <td>...</td>\n",
       "      <td>...</td>\n",
       "      <td>...</td>\n",
       "    </tr>\n",
       "    <tr>\n",
       "      <th>655</th>\n",
       "      <td>99998.0</td>\n",
       "      <td>1091363</td>\n",
       "      <td>I'm not close enough right now to the discussion.</td>\n",
       "      <td>I'm not close enough right now to the discussion.</td>\n",
       "      <td>51911078.0</td>\n",
       "      <td>1.473276e+12</td>\n",
       "      <td>1.473276e+12</td>\n",
       "      <td>s</td>\n",
       "      <td>83.0</td>\n",
       "    </tr>\n",
       "    <tr>\n",
       "      <th>656</th>\n",
       "      <td>99998.0</td>\n",
       "      <td>1091363</td>\n",
       "      <td>I'm not close enough right now to the discussion.</td>\n",
       "      <td>I'm not close enough right now to the discussion.</td>\n",
       "      <td>51911083.0</td>\n",
       "      <td>1.473276e+12</td>\n",
       "      <td>1.473276e+12</td>\n",
       "      <td>i</td>\n",
       "      <td>73.0</td>\n",
       "    </tr>\n",
       "    <tr>\n",
       "      <th>657</th>\n",
       "      <td>99998.0</td>\n",
       "      <td>1091363</td>\n",
       "      <td>I'm not close enough right now to the discussion.</td>\n",
       "      <td>I'm not close enough right now to the discussion.</td>\n",
       "      <td>51911089.0</td>\n",
       "      <td>1.473276e+12</td>\n",
       "      <td>1.473276e+12</td>\n",
       "      <td>o</td>\n",
       "      <td>79.0</td>\n",
       "    </tr>\n",
       "    <tr>\n",
       "      <th>658</th>\n",
       "      <td>99998.0</td>\n",
       "      <td>1091363</td>\n",
       "      <td>I'm not close enough right now to the discussion.</td>\n",
       "      <td>I'm not close enough right now to the discussion.</td>\n",
       "      <td>51911095.0</td>\n",
       "      <td>1.473276e+12</td>\n",
       "      <td>1.473276e+12</td>\n",
       "      <td>n</td>\n",
       "      <td>78.0</td>\n",
       "    </tr>\n",
       "    <tr>\n",
       "      <th>659</th>\n",
       "      <td>99998.0</td>\n",
       "      <td>1091363</td>\n",
       "      <td>I'm not close enough right now to the discussion.</td>\n",
       "      <td>I'm not close enough right now to the discussion.</td>\n",
       "      <td>51911136.0</td>\n",
       "      <td>1.473276e+12</td>\n",
       "      <td>1.473276e+12</td>\n",
       "      <td>.</td>\n",
       "      <td>190.0</td>\n",
       "    </tr>\n",
       "  </tbody>\n",
       "</table>\n",
       "<p>113719769 rows × 9 columns</p>\n",
       "</div>"
      ],
      "text/plain": [
       "     PARTICIPANT_ID  TEST_SECTION_ID  \\\n",
       "0          100001.0          1090979   \n",
       "1          100001.0          1090979   \n",
       "2          100001.0          1090979   \n",
       "3          100001.0          1090979   \n",
       "4          100001.0          1090979   \n",
       "..              ...              ...   \n",
       "655         99998.0          1091363   \n",
       "656         99998.0          1091363   \n",
       "657         99998.0          1091363   \n",
       "658         99998.0          1091363   \n",
       "659         99998.0          1091363   \n",
       "\n",
       "                                              SENTENCE  \\\n",
       "0          Was wondering if you and Natalie connected?   \n",
       "1          Was wondering if you and Natalie connected?   \n",
       "2          Was wondering if you and Natalie connected?   \n",
       "3          Was wondering if you and Natalie connected?   \n",
       "4          Was wondering if you and Natalie connected?   \n",
       "..                                                 ...   \n",
       "655  I'm not close enough right now to the discussion.   \n",
       "656  I'm not close enough right now to the discussion.   \n",
       "657  I'm not close enough right now to the discussion.   \n",
       "658  I'm not close enough right now to the discussion.   \n",
       "659  I'm not close enough right now to the discussion.   \n",
       "\n",
       "                                            USER_INPUT  KEYSTROKE_ID  \\\n",
       "0          Was wondering if you and Natalie connected?    51891207.0   \n",
       "1          Was wondering if you and Natalie connected?    51891214.0   \n",
       "2          Was wondering if you and Natalie connected?    51891219.0   \n",
       "3          Was wondering if you and Natalie connected?    51891226.0   \n",
       "4          Was wondering if you and Natalie connected?    51891231.0   \n",
       "..                                                 ...           ...   \n",
       "655  I'm not close enough right now to the discussion.    51911078.0   \n",
       "656  I'm not close enough right now to the discussion.    51911083.0   \n",
       "657  I'm not close enough right now to the discussion.    51911089.0   \n",
       "658  I'm not close enough right now to the discussion.    51911095.0   \n",
       "659  I'm not close enough right now to the discussion.    51911136.0   \n",
       "\n",
       "       PRESS_TIME  RELEASE_TIME LETTER  KEYCODE  \n",
       "0    1.473275e+12  1.473275e+12  SHIFT     16.0  \n",
       "1    1.473275e+12  1.473275e+12      W     87.0  \n",
       "2    1.473275e+12  1.473275e+12      a     65.0  \n",
       "3    1.473275e+12  1.473275e+12      s     83.0  \n",
       "4    1.473275e+12  1.473275e+12            32.0  \n",
       "..            ...           ...    ...      ...  \n",
       "655  1.473276e+12  1.473276e+12      s     83.0  \n",
       "656  1.473276e+12  1.473276e+12      i     73.0  \n",
       "657  1.473276e+12  1.473276e+12      o     79.0  \n",
       "658  1.473276e+12  1.473276e+12      n     78.0  \n",
       "659  1.473276e+12  1.473276e+12      .    190.0  \n",
       "\n",
       "[113719769 rows x 9 columns]"
      ]
     },
     "execution_count": 77,
     "metadata": {},
     "output_type": "execute_result"
    }
   ],
   "source": [
    "final_dataset_concat"
   ]
  },
  {
   "cell_type": "code",
   "execution_count": 78,
   "metadata": {},
   "outputs": [],
   "source": [
    "final_dataset_concat.PRESS_TIME = final_dataset_concat.PRESS_TIME.astype('int64')\n",
    "final_dataset_concat.RELEASE_TIME = final_dataset_concat.RELEASE_TIME.astype('int64')\n",
    "final_dataset_concat.KEYSTROKE_ID = final_dataset_concat.KEYSTROKE_ID.astype('int64')\n",
    "final_dataset_concat.PARTICIPANT_ID = final_dataset_concat.PARTICIPANT_ID.astype(int)"
   ]
  },
  {
   "cell_type": "code",
   "execution_count": 80,
   "metadata": {},
   "outputs": [],
   "source": [
    "final_ds = Dataset.from_pandas(final_dataset_concat)\n",
    "final_ds = final_ds.remove_columns('__index_level_0__')"
   ]
  },
  {
   "cell_type": "code",
   "execution_count": 81,
   "metadata": {},
   "outputs": [
    {
     "data": {
      "application/vnd.jupyter.widget-view+json": {
       "model_id": "41ee406efb894a81a1c89f59b704b9c3",
       "version_major": 2,
       "version_minor": 0
      },
      "text/plain": [
       "Pushing dataset shards to the dataset hub:   0%|          | 0/10 [00:00<?, ?it/s]"
      ]
     },
     "metadata": {},
     "output_type": "display_data"
    },
    {
     "data": {
      "application/vnd.jupyter.widget-view+json": {
       "model_id": "c804498a83eb487c9890c6f4f3b17a64",
       "version_major": 2,
       "version_minor": 0
      },
      "text/plain": [
       "Creating parquet from Arrow format:   0%|          | 0/234 [00:00<?, ?ba/s]"
      ]
     },
     "metadata": {},
     "output_type": "display_data"
    },
    {
     "data": {
      "application/vnd.jupyter.widget-view+json": {
       "model_id": "e6c6be7b940d43a198b397e004d61ec4",
       "version_major": 2,
       "version_minor": 0
      },
      "text/plain": [
       "Creating parquet from Arrow format:   0%|          | 0/234 [00:00<?, ?ba/s]"
      ]
     },
     "metadata": {},
     "output_type": "display_data"
    },
    {
     "data": {
      "application/vnd.jupyter.widget-view+json": {
       "model_id": "71ee9779e3154f05b9fa2100f5a12e47",
       "version_major": 2,
       "version_minor": 0
      },
      "text/plain": [
       "Creating parquet from Arrow format:   0%|          | 0/234 [00:00<?, ?ba/s]"
      ]
     },
     "metadata": {},
     "output_type": "display_data"
    },
    {
     "data": {
      "application/vnd.jupyter.widget-view+json": {
       "model_id": "d854260d2d6244f6901e2a6704e08f0f",
       "version_major": 2,
       "version_minor": 0
      },
      "text/plain": [
       "Creating parquet from Arrow format:   0%|          | 0/234 [00:00<?, ?ba/s]"
      ]
     },
     "metadata": {},
     "output_type": "display_data"
    },
    {
     "data": {
      "application/vnd.jupyter.widget-view+json": {
       "model_id": "129115a20ca8496ea1abc1541ffedbc8",
       "version_major": 2,
       "version_minor": 0
      },
      "text/plain": [
       "Creating parquet from Arrow format:   0%|          | 0/234 [00:00<?, ?ba/s]"
      ]
     },
     "metadata": {},
     "output_type": "display_data"
    },
    {
     "data": {
      "application/vnd.jupyter.widget-view+json": {
       "model_id": "a873de1624534169af99dd522f19046a",
       "version_major": 2,
       "version_minor": 0
      },
      "text/plain": [
       "Creating parquet from Arrow format:   0%|          | 0/234 [00:00<?, ?ba/s]"
      ]
     },
     "metadata": {},
     "output_type": "display_data"
    },
    {
     "data": {
      "application/vnd.jupyter.widget-view+json": {
       "model_id": "7baeca6cf32e45daaed8dcbbfd914fa9",
       "version_major": 2,
       "version_minor": 0
      },
      "text/plain": [
       "Creating parquet from Arrow format:   0%|          | 0/234 [00:00<?, ?ba/s]"
      ]
     },
     "metadata": {},
     "output_type": "display_data"
    },
    {
     "data": {
      "application/vnd.jupyter.widget-view+json": {
       "model_id": "b7b5a9b9391f45cfb20a141c7d26279c",
       "version_major": 2,
       "version_minor": 0
      },
      "text/plain": [
       "Creating parquet from Arrow format:   0%|          | 0/234 [00:00<?, ?ba/s]"
      ]
     },
     "metadata": {},
     "output_type": "display_data"
    },
    {
     "data": {
      "application/vnd.jupyter.widget-view+json": {
       "model_id": "9a6078cfab234333b909882d8623f2bf",
       "version_major": 2,
       "version_minor": 0
      },
      "text/plain": [
       "Creating parquet from Arrow format:   0%|          | 0/234 [00:00<?, ?ba/s]"
      ]
     },
     "metadata": {},
     "output_type": "display_data"
    },
    {
     "data": {
      "application/vnd.jupyter.widget-view+json": {
       "model_id": "f024c415eaa74b83ad3c7886b5f07d44",
       "version_major": 2,
       "version_minor": 0
      },
      "text/plain": [
       "Creating parquet from Arrow format:   0%|          | 0/234 [00:00<?, ?ba/s]"
      ]
     },
     "metadata": {},
     "output_type": "display_data"
    },
    {
     "data": {
      "application/vnd.jupyter.widget-view+json": {
       "model_id": "f75fc06f968a4f04955dbc689944c5bb",
       "version_major": 2,
       "version_minor": 0
      },
      "text/plain": [
       "Downloading metadata:   0%|          | 0.00/598 [00:00<?, ?B/s]"
      ]
     },
     "metadata": {},
     "output_type": "display_data"
    },
    {
     "name": "stderr",
     "output_type": "stream",
     "text": [
      "Updating downloaded metadata with the new split.\n"
     ]
    }
   ],
   "source": [
    "dataset_136Mkeystrokes_features.push_to_hub('rokset3/136Mkeystrokes')"
   ]
  },
  {
   "cell_type": "code",
   "execution_count": null,
   "metadata": {},
   "outputs": [],
   "source": []
  }
 ],
 "metadata": {
  "kernelspec": {
   "display_name": "temirlan_dev",
   "language": "python",
   "name": "temirlan_dev"
  },
  "language_info": {
   "codemirror_mode": {
    "name": "ipython",
    "version": 3
   },
   "file_extension": ".py",
   "mimetype": "text/x-python",
   "name": "python",
   "nbconvert_exporter": "python",
   "pygments_lexer": "ipython3",
   "version": "3.8.10"
  }
 },
 "nbformat": 4,
 "nbformat_minor": 4
}

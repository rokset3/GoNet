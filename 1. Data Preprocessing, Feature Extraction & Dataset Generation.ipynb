{
 "cells": [
  {
   "cell_type": "code",
   "execution_count": 1,
   "metadata": {},
   "outputs": [],
   "source": [
    "im_tort os \n",
    "\n",
    "import pandas as pd\n",
    "import matplotlib.pyplot as plt\n",
    "import numpy as np\n",
    "import seaborn as sns"
   ]
  },
  {
   "cell_type": "markdown",
   "metadata": {},
   "source": [
    "### Working with one file"
   ]
  },
  {
   "cell_type": "code",
   "execution_count": 2,
   "metadata": {},
   "outputs": [],
   "source": [
    "keys_df = pd.read_csv('data/files/5_keystrokes.txt', sep='\\t')"
   ]
  },
  {
   "cell_type": "markdown",
   "metadata": {},
   "source": [
    "Notes:\n",
    "\n",
    "$PT_t$ -> Press Time at timestep t\\\n",
    "$RT_t$ -> Release Time at timestamp t\n",
    "\n",
    "* In paper they used four latency features:\n",
    "* * Hold Latency                      \n",
    "* * Inter-key Latency\n",
    "* * Press Latency\n",
    "* * Release Latency\n",
    "\n",
    "$$\n",
    "HL = RT_t - PT_t \\\\\n",
    "IL = PT_t - RT_{t-1} \\\\\n",
    "PL = PT_t - PT_{t-1} \\\\\n",
    "RL = RT_t - RT_{t-1}\n",
    "$$\n",
    "\n",
    "So for a sequence with timestamp T we will collect t-1 latency features"
   ]
  },
  {
   "cell_type": "code",
   "execution_count": 3,
   "metadata": {},
   "outputs": [],
   "source": [
    "pd.set_option('mode.chained_assignment', None)\n",
    "\n",
    "section_ids = keys_df['TEST_SECTION_ID'].unique().tolist()\n",
    "keys_df_example = keys_df[keys_df['TEST_SECTION_ID'] == section_ids[0]]\n",
    "\n",
    "keys_df_example['PRESS_TIME_lag'] = keys_df_example['PRESS_TIME'].shift(1)\n",
    "keys_df_example['PRESS_TIME_lag'] = np.where(keys_df_example['PRESS_TIME_lag'].isna(), keys_df_example['PRESS_TIME'], keys_df_example['PRESS_TIME_lag'])\n",
    "\n",
    "keys_df_example['RELEASE_TIME_lag'] = keys_df_example['RELEASE_TIME'].shift(1)\n",
    "keys_df_example['RELEASE_TIME_lag'] = np.where(keys_df_example['RELEASE_TIME_lag'].isna(), keys_df_example['RELEASE_TIME'], keys_df_example['RELEASE_TIME_lag'])\n",
    "\n",
    "keys_df_example['PRESS_TIME_lag'] = keys_df_example['PRESS_TIME_lag'].astype('int64')\n",
    "keys_df_example['RELEASE_TIME_lag'] = keys_df_example['RELEASE_TIME_lag'].astype('int64')"
   ]
  },
  {
   "cell_type": "code",
   "execution_count": 4,
   "metadata": {},
   "outputs": [],
   "source": [
    "keys_df_example['HL'] =  keys_df_example['RELEASE_TIME'] - keys_df_example['PRESS_TIME']\n",
    "keys_df_example['IL'] = keys_df_example['PRESS_TIME'] - keys_df_example['RELEASE_TIME_lag']\n",
    "keys_df_example['PL'] = keys_df_example['PRESS_TIME'] - keys_df_example['PRESS_TIME_lag']\n",
    "keys_df_example['RL'] = keys_df_example['RELEASE_TIME'] - keys_df_example['RELEASE_TIME_lag']"
   ]
  },
  {
   "cell_type": "code",
   "execution_count": 6,
   "metadata": {},
   "outputs": [],
   "source": [
    "from preprocessing_utils import extract_latency_features_from_df as p"
   ]
  },
  {
   "cell_type": "code",
   "execution_count": 7,
   "metadata": {},
   "outputs": [],
   "source": [
    "test_case = keys_df[keys_df['TEST_SECTION_ID'] == section_ids[1]]"
   ]
  },
  {
   "cell_type": "code",
   "execution_count": 8,
   "metadata": {},
   "outputs": [],
   "source": [
    "output = p(test_case,\n",
    " 'PRESS_TIME',\n",
    " 'RELEASE_TIME',\n",
    " 'KEYCODE',\n",
    " 'PARTICIPANT_ID',\n",
    " 'TEST_SECTION_ID')"
   ]
  },
  {
   "cell_type": "code",
   "execution_count": 9,
   "metadata": {},
   "outputs": [
    {
     "data": {
      "text/plain": [
       "(47, 47, 47, 47, 47)"
      ]
     },
     "execution_count": 9,
     "metadata": {},
     "output_type": "execute_result"
    }
   ],
   "source": [
    "(len(output['keycode_ids']),\n",
    "len(output['hl']),\n",
    "len(output['il']),\n",
    "len(output['pl']),\n",
    "len(output['rl']) )"
   ]
  },
  {
   "cell_type": "markdown",
   "metadata": {},
   "source": [
    "### Extracting features from entire dataset & saving in one format"
   ]
  },
  {
   "cell_type": "code",
   "execution_count": 10,
   "metadata": {},
   "outputs": [],
   "source": [
    "def find_bad_data(df):\n",
    "    if any(df.isna().sum().drop('LETTER') > 0):\n",
    "        return 1\n",
    "    else:\n",
    "        return 0\n",
    "    \n",
    "    \n",
    "def frac_of_keycode_nan(df):\n",
    "    tot = df.shape[0]\n",
    "    nan_num = df.KEYCODE.isna().sum()\n",
    "    if tot == 0:\n",
    "        return 0.0\n",
    "    return nan_num/tot\n",
    "\n",
    "def check_stuff(df):\n",
    "    output = dict(\n",
    "        is_bad = find_bad_data(df),\n",
    "        frac_nan_kc = frac_of_keycode(nan(df))    )"
   ]
  },
  {
   "cell_type": "code",
   "execution_count": 11,
   "metadata": {},
   "outputs": [],
   "source": [
    "meta_df = pd.read_csv('data/metadata_participants.txt', sep='\\t')\n",
    "meta_df = meta_df[meta_df['LAYOUT'] =='qwerty']\n",
    "meta_df = meta_df[meta_df['KEYBOARD_TYPE'].isin(['full', 'laptop'])]\n",
    "\n",
    "\n",
    "ids_of_interest = meta_df['PARTICIPANT_ID'].tolist()"
   ]
  },
  {
   "cell_type": "code",
   "execution_count": 12,
   "metadata": {},
   "outputs": [],
   "source": [
    "# reading all of the files, that are were typed in qwerty and on laptop/pc\n",
    "keystrokes_data_files = [f'{i}_keystrokes.txt' for i in ids_of_interest]\n",
    "keystrokes_real_files = os.listdir('data/files/')\n",
    "\n",
    "keystrokes_data_files = sorted(list(set(keystrokes_data_files).intersection(set(keystrokes_real_files))))"
   ]
  },
  {
   "cell_type": "code",
   "execution_count": 13,
   "metadata": {
    "tags": []
   },
   "outputs": [
    {
     "name": "stderr",
     "output_type": "stream",
     "text": [
      "100%|██████████| 162056/162056 [26:30<00:00, 101.90it/s] \n"
     ]
    },
    {
     "data": {
      "text/plain": [
       "6048"
      ]
     },
     "execution_count": 13,
     "metadata": {},
     "output_type": "execute_result"
    }
   ],
   "source": [
    "from tqdm import tqdm\n",
    "dataframes = []\n",
    "failed_files = []\n",
    "for path in tqdm(keystrokes_data_files):\n",
    "    data_path = os.path.join(os.getcwd(), fr'data/files/{path}')\n",
    "    try:\n",
    "        df = pd.read_csv(data_path, sep='\\t')\n",
    "        for id in sorted(df.TEST_SECTION_ID.unique()):\n",
    "            curr_df = df[df.TEST_SECTION_ID == id]\n",
    "            dataframes.append(curr_df)\n",
    "    except:\n",
    "        failed_files.append(data_path)\n",
    "\n",
    "\n",
    "len(failed_files)"
   ]
  },
  {
   "cell_type": "code",
   "execution_count": 14,
   "metadata": {},
   "outputs": [],
   "source": [
    "final_dataset = pd.DataFrame()\n",
    "final_dataset['frames'] = dataframes "
   ]
  },
  {
   "cell_type": "code",
   "execution_count": 15,
   "metadata": {},
   "outputs": [
    {
     "name": "stdout",
     "output_type": "stream",
     "text": [
      "INFO: Pandarallel will run on 24 workers.\n",
      "INFO: Pandarallel will use Memory file system to transfer data between the main process and workers.\n"
     ]
    }
   ],
   "source": [
    "from pandarallel import pandarallel\n",
    "pandarallel.initialize(progress_bar=True)"
   ]
  },
  {
   "cell_type": "code",
   "execution_count": 16,
   "metadata": {},
   "outputs": [
    {
     "data": {
      "application/vnd.jupyter.widget-view+json": {
       "model_id": "38d548945b0e4f5980397fef35e055a2",
       "version_major": 2,
       "version_minor": 0
      },
      "text/plain": [
       "VBox(children=(HBox(children=(IntProgress(value=0, description='0.00%', max=97478), Label(value='0 / 97478')))…"
      ]
     },
     "metadata": {},
     "output_type": "display_data"
    },
    {
     "data": {
      "application/vnd.jupyter.widget-view+json": {
       "model_id": "5314695c585b45bbab4d915df808b882",
       "version_major": 2,
       "version_minor": 0
      },
      "text/plain": [
       "VBox(children=(HBox(children=(IntProgress(value=0, description='0.00%', max=97478), Label(value='0 / 97478')))…"
      ]
     },
     "metadata": {},
     "output_type": "display_data"
    }
   ],
   "source": [
    "final_dataset['is_bad'] = final_dataset.frames.parallel_apply(find_bad_data)\n",
    "final_dataset['keycode_nan_frac'] = final_dataset.frames.parallel_apply(frac_of_keycode_nan)"
   ]
  },
  {
   "cell_type": "code",
   "execution_count": 17,
   "metadata": {},
   "outputs": [],
   "source": [
    "final_dataset = final_dataset[final_dataset['is_bad'] == 0]"
   ]
  },
  {
   "cell_type": "code",
   "execution_count": 18,
   "metadata": {},
   "outputs": [
    {
     "name": "stdout",
     "output_type": "stream",
     "text": [
      "0.011% datapoints lostlost \n",
      "2339211 keystrokes in final dataset\n"
     ]
    }
   ],
   "source": [
    "print(f'{100 - final_dataset.shape[0]/len(dataframes) * 100 :.3f}% datapoints lostlost ')\n",
    "print(f'{final_dataset.shape[0]} keystrokes in final dataset')"
   ]
  },
  {
   "cell_type": "code",
   "execution_count": 19,
   "metadata": {},
   "outputs": [
    {
     "data": {
      "application/vnd.jupyter.widget-view+json": {
       "model_id": "65d5b1cb984a4c40954744335feaeea3",
       "version_major": 2,
       "version_minor": 0
      },
      "text/plain": [
       "VBox(children=(HBox(children=(IntProgress(value=0, description='0.00%', max=97468), Label(value='0 / 97468')))…"
      ]
     },
     "metadata": {},
     "output_type": "display_data"
    }
   ],
   "source": [
    "features_df = final_dataset.parallel_apply(lambda x: p(x.frames,\n",
    "                                                        'PRESS_TIME',\n",
    "                                                        'RELEASE_TIME',\n",
    "                                                        'KEYCODE',\n",
    "                                                        'PARTICIPANT_ID',\n",
    "                                                        'TEST_SECTION_ID'),\n",
    "                                            axis='columns',\n",
    "                                            result_type='expand')"
   ]
  },
  {
   "cell_type": "code",
   "execution_count": 20,
   "metadata": {},
   "outputs": [],
   "source": [
    "features_df['participant_id'] = features_df['participant_id'].astype('int64')"
   ]
  },
  {
   "cell_type": "code",
   "execution_count": 30,
   "metadata": {},
   "outputs": [
    {
     "data": {
      "text/plain": [
       "260"
      ]
     },
     "execution_count": 30,
     "metadata": {},
     "output_type": "execute_result"
    }
   ],
   "source": [
    "trash_ids = features_df.groupby('participant_id').count().section_id[features_df.groupby('participant_id').count().section_id < 15].index.values\n",
    "len(trash_ids)"
   ]
  },
  {
   "cell_type": "code",
   "execution_count": 33,
   "metadata": {},
   "outputs": [
    {
     "data": {
      "text/html": [
       "<div>\n",
       "<style scoped>\n",
       "    .dataframe tbody tr th:only-of-type {\n",
       "        vertical-align: middle;\n",
       "    }\n",
       "\n",
       "    .dataframe tbody tr th {\n",
       "        vertical-align: top;\n",
       "    }\n",
       "\n",
       "    .dataframe thead th {\n",
       "        text-align: right;\n",
       "    }\n",
       "</style>\n",
       "<table border=\"1\" class=\"dataframe\">\n",
       "  <thead>\n",
       "    <tr style=\"text-align: right;\">\n",
       "      <th></th>\n",
       "      <th>section_id</th>\n",
       "      <th>keycode_ids</th>\n",
       "      <th>hl</th>\n",
       "      <th>il</th>\n",
       "      <th>pl</th>\n",
       "      <th>rl</th>\n",
       "    </tr>\n",
       "    <tr>\n",
       "      <th>participant_id</th>\n",
       "      <th></th>\n",
       "      <th></th>\n",
       "      <th></th>\n",
       "      <th></th>\n",
       "      <th></th>\n",
       "      <th></th>\n",
       "    </tr>\n",
       "  </thead>\n",
       "  <tbody>\n",
       "    <tr>\n",
       "      <th>5</th>\n",
       "      <td>15</td>\n",
       "      <td>15</td>\n",
       "      <td>15</td>\n",
       "      <td>15</td>\n",
       "      <td>15</td>\n",
       "      <td>15</td>\n",
       "    </tr>\n",
       "    <tr>\n",
       "      <th>23</th>\n",
       "      <td>15</td>\n",
       "      <td>15</td>\n",
       "      <td>15</td>\n",
       "      <td>15</td>\n",
       "      <td>15</td>\n",
       "      <td>15</td>\n",
       "    </tr>\n",
       "    <tr>\n",
       "      <th>24</th>\n",
       "      <td>15</td>\n",
       "      <td>15</td>\n",
       "      <td>15</td>\n",
       "      <td>15</td>\n",
       "      <td>15</td>\n",
       "      <td>15</td>\n",
       "    </tr>\n",
       "    <tr>\n",
       "      <th>25</th>\n",
       "      <td>15</td>\n",
       "      <td>15</td>\n",
       "      <td>15</td>\n",
       "      <td>15</td>\n",
       "      <td>15</td>\n",
       "      <td>15</td>\n",
       "    </tr>\n",
       "    <tr>\n",
       "      <th>30</th>\n",
       "      <td>15</td>\n",
       "      <td>15</td>\n",
       "      <td>15</td>\n",
       "      <td>15</td>\n",
       "      <td>15</td>\n",
       "      <td>15</td>\n",
       "    </tr>\n",
       "    <tr>\n",
       "      <th>...</th>\n",
       "      <td>...</td>\n",
       "      <td>...</td>\n",
       "      <td>...</td>\n",
       "      <td>...</td>\n",
       "      <td>...</td>\n",
       "      <td>...</td>\n",
       "    </tr>\n",
       "    <tr>\n",
       "      <th>517932</th>\n",
       "      <td>15</td>\n",
       "      <td>15</td>\n",
       "      <td>15</td>\n",
       "      <td>15</td>\n",
       "      <td>15</td>\n",
       "      <td>15</td>\n",
       "    </tr>\n",
       "    <tr>\n",
       "      <th>517936</th>\n",
       "      <td>15</td>\n",
       "      <td>15</td>\n",
       "      <td>15</td>\n",
       "      <td>15</td>\n",
       "      <td>15</td>\n",
       "      <td>15</td>\n",
       "    </tr>\n",
       "    <tr>\n",
       "      <th>517943</th>\n",
       "      <td>15</td>\n",
       "      <td>15</td>\n",
       "      <td>15</td>\n",
       "      <td>15</td>\n",
       "      <td>15</td>\n",
       "      <td>15</td>\n",
       "    </tr>\n",
       "    <tr>\n",
       "      <th>517944</th>\n",
       "      <td>15</td>\n",
       "      <td>15</td>\n",
       "      <td>15</td>\n",
       "      <td>15</td>\n",
       "      <td>15</td>\n",
       "      <td>15</td>\n",
       "    </tr>\n",
       "    <tr>\n",
       "      <th>517947</th>\n",
       "      <td>15</td>\n",
       "      <td>15</td>\n",
       "      <td>15</td>\n",
       "      <td>15</td>\n",
       "      <td>15</td>\n",
       "      <td>15</td>\n",
       "    </tr>\n",
       "  </tbody>\n",
       "</table>\n",
       "<p>156007 rows × 6 columns</p>\n",
       "</div>"
      ],
      "text/plain": [
       "                section_id  keycode_ids  hl  il  pl  rl\n",
       "participant_id                                         \n",
       "5                       15           15  15  15  15  15\n",
       "23                      15           15  15  15  15  15\n",
       "24                      15           15  15  15  15  15\n",
       "25                      15           15  15  15  15  15\n",
       "30                      15           15  15  15  15  15\n",
       "...                    ...          ...  ..  ..  ..  ..\n",
       "517932                  15           15  15  15  15  15\n",
       "517936                  15           15  15  15  15  15\n",
       "517943                  15           15  15  15  15  15\n",
       "517944                  15           15  15  15  15  15\n",
       "517947                  15           15  15  15  15  15\n",
       "\n",
       "[156007 rows x 6 columns]"
      ]
     },
     "execution_count": 33,
     "metadata": {},
     "output_type": "execute_result"
    }
   ],
   "source": [
    "features_df.groupby('participant_id').count()"
   ]
  },
  {
   "cell_type": "code",
   "execution_count": 32,
   "metadata": {
    "tags": []
   },
   "outputs": [
    {
     "data": {
      "text/html": [
       "<div>\n",
       "<style scoped>\n",
       "    .dataframe tbody tr th:only-of-type {\n",
       "        vertical-align: middle;\n",
       "    }\n",
       "\n",
       "    .dataframe tbody tr th {\n",
       "        vertical-align: top;\n",
       "    }\n",
       "\n",
       "    .dataframe thead th {\n",
       "        text-align: right;\n",
       "    }\n",
       "</style>\n",
       "<table border=\"1\" class=\"dataframe\">\n",
       "  <thead>\n",
       "    <tr style=\"text-align: right;\">\n",
       "      <th></th>\n",
       "      <th>participant_id</th>\n",
       "      <th>section_id</th>\n",
       "      <th>keycode_ids</th>\n",
       "      <th>hl</th>\n",
       "      <th>il</th>\n",
       "      <th>pl</th>\n",
       "      <th>rl</th>\n",
       "    </tr>\n",
       "  </thead>\n",
       "  <tbody>\n",
       "    <tr>\n",
       "      <th>0</th>\n",
       "      <td>100001</td>\n",
       "      <td>1090979</td>\n",
       "      <td>[16, 87, 65, 83, 32, 87, 79, 78, 68, 69, 82, 7...</td>\n",
       "      <td>[151, 120, 144, 144, 136, 128, 200, 136, 64, 1...</td>\n",
       "      <td>[-151, -80, 56, -72, -32, 48, -24, -64, -8, 80...</td>\n",
       "      <td>[0, 71, 176, 72, 112, 184, 104, 136, 128, 144,...</td>\n",
       "      <td>[0, 40, 200, 72, 104, 176, 176, 72, 56, 240, 4...</td>\n",
       "    </tr>\n",
       "    <tr>\n",
       "      <th>1</th>\n",
       "      <td>100001</td>\n",
       "      <td>1091001</td>\n",
       "      <td>[16, 80, 76, 69, 65, 83, 69, 32, 71, 73, 86, 6...</td>\n",
       "      <td>[136, 160, 160, 152, 112, 168, 136, 104, 128, ...</td>\n",
       "      <td>[-136, -104, -48, -80, -8, -16, -48, -8, -8, -...</td>\n",
       "      <td>[0, 32, 112, 80, 144, 96, 120, 128, 96, 120, 1...</td>\n",
       "      <td>[0, 56, 112, 72, 104, 152, 88, 96, 120, 136, 1...</td>\n",
       "    </tr>\n",
       "    <tr>\n",
       "      <th>2</th>\n",
       "      <td>100001</td>\n",
       "      <td>1091016</td>\n",
       "      <td>[16, 77, 73, 67, 72, 65, 69, 76, 32, 83, 65, 7...</td>\n",
       "      <td>[112, 144, 127, 136, 120, 128, 184, 168, 96, 1...</td>\n",
       "      <td>[-112, -56, -55, -56, -24, -8, -64, -72, -64, ...</td>\n",
       "      <td>[0, 56, 89, 71, 112, 112, 64, 112, 104, 112, 9...</td>\n",
       "      <td>[0, 88, 72, 80, 96, 120, 120, 96, 32, 184, 56,...</td>\n",
       "    </tr>\n",
       "    <tr>\n",
       "      <th>3</th>\n",
       "      <td>100001</td>\n",
       "      <td>1091025</td>\n",
       "      <td>[16, 80, 85, 66, 76, 73, 67, 32, 79, 82, 68, 6...</td>\n",
       "      <td>[136, 136, 120, 112, 144, 152, 120, 112, 152, ...</td>\n",
       "      <td>[-136, -72, -24, 96, -16, -88, -32, -16, -8, -...</td>\n",
       "      <td>[0, 64, 112, 216, 96, 56, 120, 104, 104, 88, 1...</td>\n",
       "      <td>[0, 64, 96, 208, 128, 64, 88, 96, 144, 112, 72...</td>\n",
       "    </tr>\n",
       "    <tr>\n",
       "      <th>4</th>\n",
       "      <td>100001</td>\n",
       "      <td>1091042</td>\n",
       "      <td>[16, 84, 72, 69, 32, 76, 69, 84, 84, 69, 82, 8...</td>\n",
       "      <td>[120, 128, 120, 128, 144, 144, 120, 80, 120, 1...</td>\n",
       "      <td>[-120, -80, -8, -40, -40, -16, -72, -40, 112, ...</td>\n",
       "      <td>[0, 40, 120, 80, 88, 128, 72, 80, 192, 168, 88...</td>\n",
       "      <td>[0, 48, 112, 88, 104, 128, 48, 40, 232, 168, 1...</td>\n",
       "    </tr>\n",
       "    <tr>\n",
       "      <th>...</th>\n",
       "      <td>...</td>\n",
       "      <td>...</td>\n",
       "      <td>...</td>\n",
       "      <td>...</td>\n",
       "      <td>...</td>\n",
       "      <td>...</td>\n",
       "      <td>...</td>\n",
       "    </tr>\n",
       "    <tr>\n",
       "      <th>2339456</th>\n",
       "      <td>99998</td>\n",
       "      <td>1091261</td>\n",
       "      <td>[16, 16, 73, 32, 72, 65, 86, 69, 32, 70, 79, 8...</td>\n",
       "      <td>[337, 352, 80, 128, 81, 143, 112, 97, 112, 112...</td>\n",
       "      <td>[-337, 32, -80, 64, 47, 96, -32, 80, 47, 400, ...</td>\n",
       "      <td>[0, 369, 272, 144, 175, 177, 111, 192, 144, 51...</td>\n",
       "      <td>[0, 384, 0, 192, 128, 239, 80, 177, 159, 512, ...</td>\n",
       "    </tr>\n",
       "    <tr>\n",
       "      <th>2339457</th>\n",
       "      <td>99998</td>\n",
       "      <td>1091290</td>\n",
       "      <td>[16, 78, 69, 87, 32, 83, 87, 73, 84, 67, 72, 6...</td>\n",
       "      <td>[336, 64, 95, 96, 80, 64, 63, 80, 80, 79, 80, ...</td>\n",
       "      <td>[-336, -96, 193, 48, 64, 593, 144, 176, 400, 8...</td>\n",
       "      <td>[0, 240, 257, 143, 160, 673, 208, 239, 480, 91...</td>\n",
       "      <td>[0, -32, 288, 144, 144, 657, 207, 256, 480, 91...</td>\n",
       "    </tr>\n",
       "    <tr>\n",
       "      <th>2339458</th>\n",
       "      <td>99998</td>\n",
       "      <td>1091319</td>\n",
       "      <td>[16, 80, 82, 79, 66, 65, 66, 76, 89, 32, 67, 6...</td>\n",
       "      <td>[349, 64, 64, 64, 64, 112, 80, 80, 80, 112, 80...</td>\n",
       "      <td>[-349, -80, 240, 112, 752, 160, 48, 448, 208, ...</td>\n",
       "      <td>[0, 269, 304, 176, 816, 224, 160, 528, 288, 11...</td>\n",
       "      <td>[0, -16, 304, 176, 816, 272, 128, 528, 288, 14...</td>\n",
       "    </tr>\n",
       "    <tr>\n",
       "      <th>2339459</th>\n",
       "      <td>99998</td>\n",
       "      <td>1091342</td>\n",
       "      <td>[16, 68, 79, 32, 89, 79, 85, 32, 87, 65, 78, 8...</td>\n",
       "      <td>[577, 112, 95, 128, 96, 79, 96, 79, 64, 64, 96...</td>\n",
       "      <td>[-577, -48, 96, 64, 48, 1, 144, 81, 608, 144, ...</td>\n",
       "      <td>[0, 529, 208, 159, 176, 97, 223, 177, 687, 208...</td>\n",
       "      <td>[0, 64, 191, 192, 144, 80, 240, 160, 672, 208,...</td>\n",
       "    </tr>\n",
       "    <tr>\n",
       "      <th>2339460</th>\n",
       "      <td>99998</td>\n",
       "      <td>1091363</td>\n",
       "      <td>[16, 73, 222, 188, 32, 8, 8, 77, 32, 78, 79, 8...</td>\n",
       "      <td>[400, 64, 48, 96, 96, 64, 64, 63, 96, 79, 96, ...</td>\n",
       "      <td>[-400, -96, 608, 224, 288, 336, 112, 672, 97, ...</td>\n",
       "      <td>[0, 304, 672, 272, 384, 432, 176, 736, 160, 86...</td>\n",
       "      <td>[0, -32, 656, 320, 384, 400, 176, 735, 193, 84...</td>\n",
       "    </tr>\n",
       "  </tbody>\n",
       "</table>\n",
       "<p>2336205 rows × 7 columns</p>\n",
       "</div>"
      ],
      "text/plain": [
       "         participant_id  section_id  \\\n",
       "0                100001     1090979   \n",
       "1                100001     1091001   \n",
       "2                100001     1091016   \n",
       "3                100001     1091025   \n",
       "4                100001     1091042   \n",
       "...                 ...         ...   \n",
       "2339456           99998     1091261   \n",
       "2339457           99998     1091290   \n",
       "2339458           99998     1091319   \n",
       "2339459           99998     1091342   \n",
       "2339460           99998     1091363   \n",
       "\n",
       "                                               keycode_ids  \\\n",
       "0        [16, 87, 65, 83, 32, 87, 79, 78, 68, 69, 82, 7...   \n",
       "1        [16, 80, 76, 69, 65, 83, 69, 32, 71, 73, 86, 6...   \n",
       "2        [16, 77, 73, 67, 72, 65, 69, 76, 32, 83, 65, 7...   \n",
       "3        [16, 80, 85, 66, 76, 73, 67, 32, 79, 82, 68, 6...   \n",
       "4        [16, 84, 72, 69, 32, 76, 69, 84, 84, 69, 82, 8...   \n",
       "...                                                    ...   \n",
       "2339456  [16, 16, 73, 32, 72, 65, 86, 69, 32, 70, 79, 8...   \n",
       "2339457  [16, 78, 69, 87, 32, 83, 87, 73, 84, 67, 72, 6...   \n",
       "2339458  [16, 80, 82, 79, 66, 65, 66, 76, 89, 32, 67, 6...   \n",
       "2339459  [16, 68, 79, 32, 89, 79, 85, 32, 87, 65, 78, 8...   \n",
       "2339460  [16, 73, 222, 188, 32, 8, 8, 77, 32, 78, 79, 8...   \n",
       "\n",
       "                                                        hl  \\\n",
       "0        [151, 120, 144, 144, 136, 128, 200, 136, 64, 1...   \n",
       "1        [136, 160, 160, 152, 112, 168, 136, 104, 128, ...   \n",
       "2        [112, 144, 127, 136, 120, 128, 184, 168, 96, 1...   \n",
       "3        [136, 136, 120, 112, 144, 152, 120, 112, 152, ...   \n",
       "4        [120, 128, 120, 128, 144, 144, 120, 80, 120, 1...   \n",
       "...                                                    ...   \n",
       "2339456  [337, 352, 80, 128, 81, 143, 112, 97, 112, 112...   \n",
       "2339457  [336, 64, 95, 96, 80, 64, 63, 80, 80, 79, 80, ...   \n",
       "2339458  [349, 64, 64, 64, 64, 112, 80, 80, 80, 112, 80...   \n",
       "2339459  [577, 112, 95, 128, 96, 79, 96, 79, 64, 64, 96...   \n",
       "2339460  [400, 64, 48, 96, 96, 64, 64, 63, 96, 79, 96, ...   \n",
       "\n",
       "                                                        il  \\\n",
       "0        [-151, -80, 56, -72, -32, 48, -24, -64, -8, 80...   \n",
       "1        [-136, -104, -48, -80, -8, -16, -48, -8, -8, -...   \n",
       "2        [-112, -56, -55, -56, -24, -8, -64, -72, -64, ...   \n",
       "3        [-136, -72, -24, 96, -16, -88, -32, -16, -8, -...   \n",
       "4        [-120, -80, -8, -40, -40, -16, -72, -40, 112, ...   \n",
       "...                                                    ...   \n",
       "2339456  [-337, 32, -80, 64, 47, 96, -32, 80, 47, 400, ...   \n",
       "2339457  [-336, -96, 193, 48, 64, 593, 144, 176, 400, 8...   \n",
       "2339458  [-349, -80, 240, 112, 752, 160, 48, 448, 208, ...   \n",
       "2339459  [-577, -48, 96, 64, 48, 1, 144, 81, 608, 144, ...   \n",
       "2339460  [-400, -96, 608, 224, 288, 336, 112, 672, 97, ...   \n",
       "\n",
       "                                                        pl  \\\n",
       "0        [0, 71, 176, 72, 112, 184, 104, 136, 128, 144,...   \n",
       "1        [0, 32, 112, 80, 144, 96, 120, 128, 96, 120, 1...   \n",
       "2        [0, 56, 89, 71, 112, 112, 64, 112, 104, 112, 9...   \n",
       "3        [0, 64, 112, 216, 96, 56, 120, 104, 104, 88, 1...   \n",
       "4        [0, 40, 120, 80, 88, 128, 72, 80, 192, 168, 88...   \n",
       "...                                                    ...   \n",
       "2339456  [0, 369, 272, 144, 175, 177, 111, 192, 144, 51...   \n",
       "2339457  [0, 240, 257, 143, 160, 673, 208, 239, 480, 91...   \n",
       "2339458  [0, 269, 304, 176, 816, 224, 160, 528, 288, 11...   \n",
       "2339459  [0, 529, 208, 159, 176, 97, 223, 177, 687, 208...   \n",
       "2339460  [0, 304, 672, 272, 384, 432, 176, 736, 160, 86...   \n",
       "\n",
       "                                                        rl  \n",
       "0        [0, 40, 200, 72, 104, 176, 176, 72, 56, 240, 4...  \n",
       "1        [0, 56, 112, 72, 104, 152, 88, 96, 120, 136, 1...  \n",
       "2        [0, 88, 72, 80, 96, 120, 120, 96, 32, 184, 56,...  \n",
       "3        [0, 64, 96, 208, 128, 64, 88, 96, 144, 112, 72...  \n",
       "4        [0, 48, 112, 88, 104, 128, 48, 40, 232, 168, 1...  \n",
       "...                                                    ...  \n",
       "2339456  [0, 384, 0, 192, 128, 239, 80, 177, 159, 512, ...  \n",
       "2339457  [0, -32, 288, 144, 144, 657, 207, 256, 480, 91...  \n",
       "2339458  [0, -16, 304, 176, 816, 272, 128, 528, 288, 14...  \n",
       "2339459  [0, 64, 191, 192, 144, 80, 240, 160, 672, 208,...  \n",
       "2339460  [0, -32, 656, 320, 384, 400, 176, 735, 193, 84...  \n",
       "\n",
       "[2336205 rows x 7 columns]"
      ]
     },
     "execution_count": 32,
     "metadata": {},
     "output_type": "execute_result"
    }
   ],
   "source": [
    "features_df_full = features_df[~features_df.participant_id.isin(trash_ids)]\n"
   ]
  },
  {
   "cell_type": "code",
   "execution_count": 50,
   "metadata": {},
   "outputs": [
    {
     "name": "stdout",
     "output_type": "stream",
     "text": [
      "155747 unique ids\n",
      "77873 in train\n",
      "77874 in test\n"
     ]
    }
   ],
   "source": [
    "num_participants = features_df_full.participant_id.nunique()\n",
    "print(f'{num_participants} unique ids')\n",
    "num_of_train_samples = num_participants//2\n",
    "num_of_test_samples = num_participants - num_of_train_samples\n",
    "print(f'{num_of_train_samples} in train\\n{num_of_test_samples} in test')"
   ]
  },
  {
   "cell_type": "code",
   "execution_count": 66,
   "metadata": {},
   "outputs": [],
   "source": [
    "train_ids = features_df_full.drop_duplicates(subset=['participant_id']).participant_id.sample(num_of_train_samples, random_state=42).values\n",
    "test_ids = features_df_full[~features_df_full.participant_id.isin(train_ids)].drop_duplicates(subset=['participant_id']).participant_id.values"
   ]
  },
  {
   "cell_type": "code",
   "execution_count": 70,
   "metadata": {},
   "outputs": [
    {
     "name": "stdout",
     "output_type": "stream",
     "text": [
      "77873\n",
      "77874\n",
      "155747\n"
     ]
    }
   ],
   "source": [
    "print(len(train_ids))\n",
    "print(len(test_ids))\n",
    "print(len(train_ids) + (len(test_ids)))"
   ]
  },
  {
   "cell_type": "code",
   "execution_count": 72,
   "metadata": {},
   "outputs": [
    {
     "data": {
      "text/plain": [
       "set()"
      ]
     },
     "execution_count": 72,
     "metadata": {},
     "output_type": "execute_result"
    }
   ],
   "source": [
    "set(train_ids).intersection(set(test_ids))"
   ]
  },
  {
   "cell_type": "code",
   "execution_count": 73,
   "metadata": {},
   "outputs": [],
   "source": [
    "train_features_df_full = features_df_full[features_df_full.participant_id.isin(train_ids)]\n",
    "test_features_df_full = features_df_full[features_df_full.participant_id.isin(test_ids)]"
   ]
  },
  {
   "cell_type": "code",
   "execution_count": 74,
   "metadata": {},
   "outputs": [
    {
     "name": "stdout",
     "output_type": "stream",
     "text": [
      "1168095\n",
      "1168110\n"
     ]
    }
   ],
   "source": [
    "print(train_features_df_full.shape[0])\n",
    "print(test_features_df_full.shape[0])"
   ]
  },
  {
   "cell_type": "markdown",
   "metadata": {},
   "source": [
    "### Saving dataset in huggingface"
   ]
  },
  {
   "cell_type": "code",
   "execution_count": 77,
   "metadata": {},
   "outputs": [],
   "source": [
    "from datasets import Dataset, DatasetDict"
   ]
  },
  {
   "cell_type": "code",
   "execution_count": 78,
   "metadata": {},
   "outputs": [],
   "source": [
    "train_ds = Dataset.from_pandas(train_features_df_full)\n",
    "test_ds = Dataset.from_pandas(test_features_df_full)"
   ]
  },
  {
   "cell_type": "code",
   "execution_count": 79,
   "metadata": {},
   "outputs": [],
   "source": [
    "train_ds = train_ds.remove_columns('__index_level_0__')\n",
    "test_ds = test_ds.remove_columns('__index_level_0__')"
   ]
  },
  {
   "cell_type": "code",
   "execution_count": 81,
   "metadata": {},
   "outputs": [],
   "source": [
    "ds = DatasetDict({\"train\":train_ds,\"test\":test_ds})"
   ]
  },
  {
   "cell_type": "code",
   "execution_count": 82,
   "metadata": {},
   "outputs": [
    {
     "data": {
      "text/plain": [
       "DatasetDict({\n",
       "    train: Dataset({\n",
       "        features: ['participant_id', 'section_id', 'keycode_ids', 'hl', 'il', 'pl', 'rl'],\n",
       "        num_rows: 1168095\n",
       "    })\n",
       "    test: Dataset({\n",
       "        features: ['participant_id', 'section_id', 'keycode_ids', 'hl', 'il', 'pl', 'rl'],\n",
       "        num_rows: 1168110\n",
       "    })\n",
       "})"
      ]
     },
     "execution_count": 82,
     "metadata": {},
     "output_type": "execute_result"
    }
   ],
   "source": [
    "ds"
   ]
  },
  {
   "cell_type": "code",
   "execution_count": 83,
   "metadata": {},
   "outputs": [],
   "source": [
    "import huggingface_hub"
   ]
  },
  {
   "cell_type": "code",
   "execution_count": 84,
   "metadata": {},
   "outputs": [
    {
     "data": {
      "application/vnd.jupyter.widget-view+json": {
       "model_id": "9d7f8af96497418baf38c7addc449209",
       "version_major": 2,
       "version_minor": 0
      },
      "text/plain": [
       "VBox(children=(HTML(value='<center> <img\\nsrc=https://huggingface.co/front/assets/huggingface_logo-noborder.sv…"
      ]
     },
     "metadata": {},
     "output_type": "display_data"
    }
   ],
   "source": [
    "huggingface_hub.login()"
   ]
  },
  {
   "cell_type": "code",
   "execution_count": 85,
   "metadata": {},
   "outputs": [
    {
     "name": "stderr",
     "output_type": "stream",
     "text": [
      "Pushing split train to the Hub.\n"
     ]
    },
    {
     "data": {
      "application/vnd.jupyter.widget-view+json": {
       "model_id": "5ad7ed5cded944a99245f724727b88c3",
       "version_major": 2,
       "version_minor": 0
      },
      "text/plain": [
       "Pushing dataset shards to the dataset hub:   0%|          | 0/5 [00:00<?, ?it/s]"
      ]
     },
     "metadata": {},
     "output_type": "display_data"
    },
    {
     "data": {
      "application/vnd.jupyter.widget-view+json": {
       "model_id": "cfdb37c8558a4178a540ad1ff352e645",
       "version_major": 2,
       "version_minor": 0
      },
      "text/plain": [
       "Creating parquet from Arrow format:   0%|          | 0/234 [00:00<?, ?ba/s]"
      ]
     },
     "metadata": {},
     "output_type": "display_data"
    },
    {
     "data": {
      "application/vnd.jupyter.widget-view+json": {
       "model_id": "569ee214c597426c959cdb8e199ffa01",
       "version_major": 2,
       "version_minor": 0
      },
      "text/plain": [
       "Upload 1 LFS files:   0%|          | 0/1 [00:00<?, ?it/s]"
      ]
     },
     "metadata": {},
     "output_type": "display_data"
    },
    {
     "data": {
      "application/vnd.jupyter.widget-view+json": {
       "model_id": "e11497afb7ad4c65bb79eeb72818c4aa",
       "version_major": 2,
       "version_minor": 0
      },
      "text/plain": [
       "Creating parquet from Arrow format:   0%|          | 0/234 [00:00<?, ?ba/s]"
      ]
     },
     "metadata": {},
     "output_type": "display_data"
    },
    {
     "data": {
      "application/vnd.jupyter.widget-view+json": {
       "model_id": "174dfaf9cb464fd9b01cf50faece8339",
       "version_major": 2,
       "version_minor": 0
      },
      "text/plain": [
       "Upload 1 LFS files:   0%|          | 0/1 [00:00<?, ?it/s]"
      ]
     },
     "metadata": {},
     "output_type": "display_data"
    },
    {
     "data": {
      "application/vnd.jupyter.widget-view+json": {
       "model_id": "ae2eb252572b4c76a73c98fa45bbf269",
       "version_major": 2,
       "version_minor": 0
      },
      "text/plain": [
       "Creating parquet from Arrow format:   0%|          | 0/234 [00:00<?, ?ba/s]"
      ]
     },
     "metadata": {},
     "output_type": "display_data"
    },
    {
     "data": {
      "application/vnd.jupyter.widget-view+json": {
       "model_id": "69744f4fea804884a8a57fdece09316e",
       "version_major": 2,
       "version_minor": 0
      },
      "text/plain": [
       "Upload 1 LFS files:   0%|          | 0/1 [00:00<?, ?it/s]"
      ]
     },
     "metadata": {},
     "output_type": "display_data"
    },
    {
     "data": {
      "application/vnd.jupyter.widget-view+json": {
       "model_id": "18ea57ce0ad5432f837c8a2975cd28f2",
       "version_major": 2,
       "version_minor": 0
      },
      "text/plain": [
       "Creating parquet from Arrow format:   0%|          | 0/234 [00:00<?, ?ba/s]"
      ]
     },
     "metadata": {},
     "output_type": "display_data"
    },
    {
     "data": {
      "application/vnd.jupyter.widget-view+json": {
       "model_id": "36c6c294035c44b2a0e6adaa450c3325",
       "version_major": 2,
       "version_minor": 0
      },
      "text/plain": [
       "Upload 1 LFS files:   0%|          | 0/1 [00:00<?, ?it/s]"
      ]
     },
     "metadata": {},
     "output_type": "display_data"
    },
    {
     "data": {
      "application/vnd.jupyter.widget-view+json": {
       "model_id": "0dcaec6a9003484fa2c31cc04bd9976d",
       "version_major": 2,
       "version_minor": 0
      },
      "text/plain": [
       "Creating parquet from Arrow format:   0%|          | 0/234 [00:00<?, ?ba/s]"
      ]
     },
     "metadata": {},
     "output_type": "display_data"
    },
    {
     "data": {
      "application/vnd.jupyter.widget-view+json": {
       "model_id": "e440613613df4c17874314ea83c83453",
       "version_major": 2,
       "version_minor": 0
      },
      "text/plain": [
       "Upload 1 LFS files:   0%|          | 0/1 [00:00<?, ?it/s]"
      ]
     },
     "metadata": {},
     "output_type": "display_data"
    },
    {
     "name": "stderr",
     "output_type": "stream",
     "text": [
      "Pushing split test to the Hub.\n"
     ]
    },
    {
     "data": {
      "application/vnd.jupyter.widget-view+json": {
       "model_id": "526bc7a9fa68470b92af25f298aa9b77",
       "version_major": 2,
       "version_minor": 0
      },
      "text/plain": [
       "Pushing dataset shards to the dataset hub:   0%|          | 0/5 [00:00<?, ?it/s]"
      ]
     },
     "metadata": {},
     "output_type": "display_data"
    },
    {
     "data": {
      "application/vnd.jupyter.widget-view+json": {
       "model_id": "bad13cd305fa4ac7b99b3910b5818f8f",
       "version_major": 2,
       "version_minor": 0
      },
      "text/plain": [
       "Creating parquet from Arrow format:   0%|          | 0/234 [00:00<?, ?ba/s]"
      ]
     },
     "metadata": {},
     "output_type": "display_data"
    },
    {
     "data": {
      "application/vnd.jupyter.widget-view+json": {
       "model_id": "c8eae853814447ac9f09e9062442f6c4",
       "version_major": 2,
       "version_minor": 0
      },
      "text/plain": [
       "Upload 1 LFS files:   0%|          | 0/1 [00:00<?, ?it/s]"
      ]
     },
     "metadata": {},
     "output_type": "display_data"
    },
    {
     "data": {
      "application/vnd.jupyter.widget-view+json": {
       "model_id": "4ac8bb77a3ea4acaaee73e1fe0971015",
       "version_major": 2,
       "version_minor": 0
      },
      "text/plain": [
       "Creating parquet from Arrow format:   0%|          | 0/234 [00:00<?, ?ba/s]"
      ]
     },
     "metadata": {},
     "output_type": "display_data"
    },
    {
     "data": {
      "application/vnd.jupyter.widget-view+json": {
       "model_id": "391c100002954121ad05859db28d21f9",
       "version_major": 2,
       "version_minor": 0
      },
      "text/plain": [
       "Upload 1 LFS files:   0%|          | 0/1 [00:00<?, ?it/s]"
      ]
     },
     "metadata": {},
     "output_type": "display_data"
    },
    {
     "data": {
      "application/vnd.jupyter.widget-view+json": {
       "model_id": "aae0cfabab80496d825acbb21c159f5b",
       "version_major": 2,
       "version_minor": 0
      },
      "text/plain": [
       "Creating parquet from Arrow format:   0%|          | 0/234 [00:00<?, ?ba/s]"
      ]
     },
     "metadata": {},
     "output_type": "display_data"
    },
    {
     "data": {
      "application/vnd.jupyter.widget-view+json": {
       "model_id": "8c1bc44689ec4a5db6de726bce2badf9",
       "version_major": 2,
       "version_minor": 0
      },
      "text/plain": [
       "Upload 1 LFS files:   0%|          | 0/1 [00:00<?, ?it/s]"
      ]
     },
     "metadata": {},
     "output_type": "display_data"
    },
    {
     "data": {
      "application/vnd.jupyter.widget-view+json": {
       "model_id": "244f3dc00ec54beda327a32ce2e93ce7",
       "version_major": 2,
       "version_minor": 0
      },
      "text/plain": [
       "Creating parquet from Arrow format:   0%|          | 0/234 [00:00<?, ?ba/s]"
      ]
     },
     "metadata": {},
     "output_type": "display_data"
    },
    {
     "data": {
      "application/vnd.jupyter.widget-view+json": {
       "model_id": "2b423b20f752472694ae0cd7e2194fba",
       "version_major": 2,
       "version_minor": 0
      },
      "text/plain": [
       "Upload 1 LFS files:   0%|          | 0/1 [00:00<?, ?it/s]"
      ]
     },
     "metadata": {},
     "output_type": "display_data"
    },
    {
     "data": {
      "application/vnd.jupyter.widget-view+json": {
       "model_id": "5a1150f2afe643ffa09c7b8d9479aa76",
       "version_major": 2,
       "version_minor": 0
      },
      "text/plain": [
       "Creating parquet from Arrow format:   0%|          | 0/234 [00:00<?, ?ba/s]"
      ]
     },
     "metadata": {},
     "output_type": "display_data"
    },
    {
     "data": {
      "application/vnd.jupyter.widget-view+json": {
       "model_id": "3e7ce0d30684415296d96d7fffadfcae",
       "version_major": 2,
       "version_minor": 0
      },
      "text/plain": [
       "Upload 1 LFS files:   0%|          | 0/1 [00:00<?, ?it/s]"
      ]
     },
     "metadata": {},
     "output_type": "display_data"
    }
   ],
   "source": [
    "ds.push_to_hub('rokset3/136Mkeystrokes_features')"
   ]
  },
  {
   "cell_type": "code",
   "execution_count": 86,
   "metadata": {},
   "outputs": [],
   "source": [
    "final_dataset_concat = pd.concat(final_dataset.frames.tolist())"
   ]
  },
  {
   "cell_type": "code",
   "execution_count": 87,
   "metadata": {},
   "outputs": [
    {
     "data": {
      "text/html": [
       "<div>\n",
       "<style scoped>\n",
       "    .dataframe tbody tr th:only-of-type {\n",
       "        vertical-align: middle;\n",
       "    }\n",
       "\n",
       "    .dataframe tbody tr th {\n",
       "        vertical-align: top;\n",
       "    }\n",
       "\n",
       "    .dataframe thead th {\n",
       "        text-align: right;\n",
       "    }\n",
       "</style>\n",
       "<table border=\"1\" class=\"dataframe\">\n",
       "  <thead>\n",
       "    <tr style=\"text-align: right;\">\n",
       "      <th></th>\n",
       "      <th>PARTICIPANT_ID</th>\n",
       "      <th>TEST_SECTION_ID</th>\n",
       "      <th>SENTENCE</th>\n",
       "      <th>USER_INPUT</th>\n",
       "      <th>KEYSTROKE_ID</th>\n",
       "      <th>PRESS_TIME</th>\n",
       "      <th>RELEASE_TIME</th>\n",
       "      <th>LETTER</th>\n",
       "      <th>KEYCODE</th>\n",
       "    </tr>\n",
       "  </thead>\n",
       "  <tbody>\n",
       "    <tr>\n",
       "      <th>0</th>\n",
       "      <td>100001.0</td>\n",
       "      <td>1090979</td>\n",
       "      <td>Was wondering if you and Natalie connected?</td>\n",
       "      <td>Was wondering if you and Natalie connected?</td>\n",
       "      <td>51891207.0</td>\n",
       "      <td>1.473275e+12</td>\n",
       "      <td>1.473275e+12</td>\n",
       "      <td>SHIFT</td>\n",
       "      <td>16.0</td>\n",
       "    </tr>\n",
       "    <tr>\n",
       "      <th>1</th>\n",
       "      <td>100001.0</td>\n",
       "      <td>1090979</td>\n",
       "      <td>Was wondering if you and Natalie connected?</td>\n",
       "      <td>Was wondering if you and Natalie connected?</td>\n",
       "      <td>51891214.0</td>\n",
       "      <td>1.473275e+12</td>\n",
       "      <td>1.473275e+12</td>\n",
       "      <td>W</td>\n",
       "      <td>87.0</td>\n",
       "    </tr>\n",
       "    <tr>\n",
       "      <th>2</th>\n",
       "      <td>100001.0</td>\n",
       "      <td>1090979</td>\n",
       "      <td>Was wondering if you and Natalie connected?</td>\n",
       "      <td>Was wondering if you and Natalie connected?</td>\n",
       "      <td>51891219.0</td>\n",
       "      <td>1.473275e+12</td>\n",
       "      <td>1.473275e+12</td>\n",
       "      <td>a</td>\n",
       "      <td>65.0</td>\n",
       "    </tr>\n",
       "    <tr>\n",
       "      <th>3</th>\n",
       "      <td>100001.0</td>\n",
       "      <td>1090979</td>\n",
       "      <td>Was wondering if you and Natalie connected?</td>\n",
       "      <td>Was wondering if you and Natalie connected?</td>\n",
       "      <td>51891226.0</td>\n",
       "      <td>1.473275e+12</td>\n",
       "      <td>1.473275e+12</td>\n",
       "      <td>s</td>\n",
       "      <td>83.0</td>\n",
       "    </tr>\n",
       "    <tr>\n",
       "      <th>4</th>\n",
       "      <td>100001.0</td>\n",
       "      <td>1090979</td>\n",
       "      <td>Was wondering if you and Natalie connected?</td>\n",
       "      <td>Was wondering if you and Natalie connected?</td>\n",
       "      <td>51891231.0</td>\n",
       "      <td>1.473275e+12</td>\n",
       "      <td>1.473275e+12</td>\n",
       "      <td></td>\n",
       "      <td>32.0</td>\n",
       "    </tr>\n",
       "    <tr>\n",
       "      <th>...</th>\n",
       "      <td>...</td>\n",
       "      <td>...</td>\n",
       "      <td>...</td>\n",
       "      <td>...</td>\n",
       "      <td>...</td>\n",
       "      <td>...</td>\n",
       "      <td>...</td>\n",
       "      <td>...</td>\n",
       "      <td>...</td>\n",
       "    </tr>\n",
       "    <tr>\n",
       "      <th>655</th>\n",
       "      <td>99998.0</td>\n",
       "      <td>1091363</td>\n",
       "      <td>I'm not close enough right now to the discussion.</td>\n",
       "      <td>I'm not close enough right now to the discussion.</td>\n",
       "      <td>51911078.0</td>\n",
       "      <td>1.473276e+12</td>\n",
       "      <td>1.473276e+12</td>\n",
       "      <td>s</td>\n",
       "      <td>83.0</td>\n",
       "    </tr>\n",
       "    <tr>\n",
       "      <th>656</th>\n",
       "      <td>99998.0</td>\n",
       "      <td>1091363</td>\n",
       "      <td>I'm not close enough right now to the discussion.</td>\n",
       "      <td>I'm not close enough right now to the discussion.</td>\n",
       "      <td>51911083.0</td>\n",
       "      <td>1.473276e+12</td>\n",
       "      <td>1.473276e+12</td>\n",
       "      <td>i</td>\n",
       "      <td>73.0</td>\n",
       "    </tr>\n",
       "    <tr>\n",
       "      <th>657</th>\n",
       "      <td>99998.0</td>\n",
       "      <td>1091363</td>\n",
       "      <td>I'm not close enough right now to the discussion.</td>\n",
       "      <td>I'm not close enough right now to the discussion.</td>\n",
       "      <td>51911089.0</td>\n",
       "      <td>1.473276e+12</td>\n",
       "      <td>1.473276e+12</td>\n",
       "      <td>o</td>\n",
       "      <td>79.0</td>\n",
       "    </tr>\n",
       "    <tr>\n",
       "      <th>658</th>\n",
       "      <td>99998.0</td>\n",
       "      <td>1091363</td>\n",
       "      <td>I'm not close enough right now to the discussion.</td>\n",
       "      <td>I'm not close enough right now to the discussion.</td>\n",
       "      <td>51911095.0</td>\n",
       "      <td>1.473276e+12</td>\n",
       "      <td>1.473276e+12</td>\n",
       "      <td>n</td>\n",
       "      <td>78.0</td>\n",
       "    </tr>\n",
       "    <tr>\n",
       "      <th>659</th>\n",
       "      <td>99998.0</td>\n",
       "      <td>1091363</td>\n",
       "      <td>I'm not close enough right now to the discussion.</td>\n",
       "      <td>I'm not close enough right now to the discussion.</td>\n",
       "      <td>51911136.0</td>\n",
       "      <td>1.473276e+12</td>\n",
       "      <td>1.473276e+12</td>\n",
       "      <td>.</td>\n",
       "      <td>190.0</td>\n",
       "    </tr>\n",
       "  </tbody>\n",
       "</table>\n",
       "<p>113719769 rows × 9 columns</p>\n",
       "</div>"
      ],
      "text/plain": [
       "     PARTICIPANT_ID  TEST_SECTION_ID  \\\n",
       "0          100001.0          1090979   \n",
       "1          100001.0          1090979   \n",
       "2          100001.0          1090979   \n",
       "3          100001.0          1090979   \n",
       "4          100001.0          1090979   \n",
       "..              ...              ...   \n",
       "655         99998.0          1091363   \n",
       "656         99998.0          1091363   \n",
       "657         99998.0          1091363   \n",
       "658         99998.0          1091363   \n",
       "659         99998.0          1091363   \n",
       "\n",
       "                                              SENTENCE  \\\n",
       "0          Was wondering if you and Natalie connected?   \n",
       "1          Was wondering if you and Natalie connected?   \n",
       "2          Was wondering if you and Natalie connected?   \n",
       "3          Was wondering if you and Natalie connected?   \n",
       "4          Was wondering if you and Natalie connected?   \n",
       "..                                                 ...   \n",
       "655  I'm not close enough right now to the discussion.   \n",
       "656  I'm not close enough right now to the discussion.   \n",
       "657  I'm not close enough right now to the discussion.   \n",
       "658  I'm not close enough right now to the discussion.   \n",
       "659  I'm not close enough right now to the discussion.   \n",
       "\n",
       "                                            USER_INPUT  KEYSTROKE_ID  \\\n",
       "0          Was wondering if you and Natalie connected?    51891207.0   \n",
       "1          Was wondering if you and Natalie connected?    51891214.0   \n",
       "2          Was wondering if you and Natalie connected?    51891219.0   \n",
       "3          Was wondering if you and Natalie connected?    51891226.0   \n",
       "4          Was wondering if you and Natalie connected?    51891231.0   \n",
       "..                                                 ...           ...   \n",
       "655  I'm not close enough right now to the discussion.    51911078.0   \n",
       "656  I'm not close enough right now to the discussion.    51911083.0   \n",
       "657  I'm not close enough right now to the discussion.    51911089.0   \n",
       "658  I'm not close enough right now to the discussion.    51911095.0   \n",
       "659  I'm not close enough right now to the discussion.    51911136.0   \n",
       "\n",
       "       PRESS_TIME  RELEASE_TIME LETTER  KEYCODE  \n",
       "0    1.473275e+12  1.473275e+12  SHIFT     16.0  \n",
       "1    1.473275e+12  1.473275e+12      W     87.0  \n",
       "2    1.473275e+12  1.473275e+12      a     65.0  \n",
       "3    1.473275e+12  1.473275e+12      s     83.0  \n",
       "4    1.473275e+12  1.473275e+12            32.0  \n",
       "..            ...           ...    ...      ...  \n",
       "655  1.473276e+12  1.473276e+12      s     83.0  \n",
       "656  1.473276e+12  1.473276e+12      i     73.0  \n",
       "657  1.473276e+12  1.473276e+12      o     79.0  \n",
       "658  1.473276e+12  1.473276e+12      n     78.0  \n",
       "659  1.473276e+12  1.473276e+12      .    190.0  \n",
       "\n",
       "[113719769 rows x 9 columns]"
      ]
     },
     "execution_count": 87,
     "metadata": {},
     "output_type": "execute_result"
    }
   ],
   "source": [
    "final_dataset_concat"
   ]
  },
  {
   "cell_type": "code",
   "execution_count": 88,
   "metadata": {},
   "outputs": [],
   "source": [
    "final_dataset_concat.PRESS_TIME = final_dataset_concat.PRESS_TIME.astype('int64')\n",
    "final_dataset_concat.RELEASE_TIME = final_dataset_concat.RELEASE_TIME.astype('int64')\n",
    "final_dataset_concat.KEYSTROKE_ID = final_dataset_concat.KEYSTROKE_ID.astype('int64')\n",
    "final_dataset_concat.PARTICIPANT_ID = final_dataset_concat.PARTICIPANT_ID.astype(int)"
   ]
  },
  {
   "cell_type": "code",
   "execution_count": 89,
   "metadata": {},
   "outputs": [],
   "source": [
    "concat_ds = Dataset.from_pandas(final_dataset_concat)\n",
    "concat_ds = concat_ds.remove_columns('__index_level_0__')"
   ]
  },
  {
   "cell_type": "code",
   "execution_count": 93,
   "metadata": {},
   "outputs": [
    {
     "data": {
      "text/plain": [
       "PARTICIPANT_ID            0\n",
       "TEST_SECTION_ID           0\n",
       "SENTENCE                  0\n",
       "USER_INPUT                0\n",
       "KEYSTROKE_ID              0\n",
       "PRESS_TIME                0\n",
       "RELEASE_TIME              0\n",
       "LETTER             11268118\n",
       "KEYCODE                   0\n",
       "dtype: int64"
      ]
     },
     "execution_count": 93,
     "metadata": {},
     "output_type": "execute_result"
    }
   ],
   "source": [
    "final_dataset_concat.isna().sum()"
   ]
  },
  {
   "cell_type": "code",
   "execution_count": 90,
   "metadata": {
    "collapsed": true,
    "jupyter": {
     "outputs_hidden": true
    },
    "tags": []
   },
   "outputs": [
    {
     "data": {
      "application/vnd.jupyter.widget-view+json": {
       "model_id": "94fbcc3e1f5346ff8df82aeade91ab35",
       "version_major": 2,
       "version_minor": 0
      },
      "text/plain": [
       "Pushing dataset shards to the dataset hub:   0%|          | 0/36 [00:00<?, ?it/s]"
      ]
     },
     "metadata": {},
     "output_type": "display_data"
    },
    {
     "data": {
      "application/vnd.jupyter.widget-view+json": {
       "model_id": "7f106463a92d4fbb93b463f4fa1a0589",
       "version_major": 2,
       "version_minor": 0
      },
      "text/plain": [
       "Creating parquet from Arrow format:   0%|          | 0/3159 [00:00<?, ?ba/s]"
      ]
     },
     "metadata": {},
     "output_type": "display_data"
    },
    {
     "data": {
      "application/vnd.jupyter.widget-view+json": {
       "model_id": "a8556fca56a14bdf998336d03533ce04",
       "version_major": 2,
       "version_minor": 0
      },
      "text/plain": [
       "Upload 1 LFS files:   0%|          | 0/1 [00:00<?, ?it/s]"
      ]
     },
     "metadata": {},
     "output_type": "display_data"
    },
    {
     "data": {
      "application/vnd.jupyter.widget-view+json": {
       "model_id": "e9c34c797f0b4e16a53754af62f0e9d9",
       "version_major": 2,
       "version_minor": 0
      },
      "text/plain": [
       "Creating parquet from Arrow format:   0%|          | 0/3159 [00:00<?, ?ba/s]"
      ]
     },
     "metadata": {},
     "output_type": "display_data"
    },
    {
     "data": {
      "application/vnd.jupyter.widget-view+json": {
       "model_id": "f06d5f047cff4e4e8eaa5aa5838bab97",
       "version_major": 2,
       "version_minor": 0
      },
      "text/plain": [
       "Upload 1 LFS files:   0%|          | 0/1 [00:00<?, ?it/s]"
      ]
     },
     "metadata": {},
     "output_type": "display_data"
    },
    {
     "data": {
      "application/vnd.jupyter.widget-view+json": {
       "model_id": "fceffb4c522140a9aa676bbed8af0954",
       "version_major": 2,
       "version_minor": 0
      },
      "text/plain": [
       "Creating parquet from Arrow format:   0%|          | 0/3159 [00:00<?, ?ba/s]"
      ]
     },
     "metadata": {},
     "output_type": "display_data"
    },
    {
     "data": {
      "application/vnd.jupyter.widget-view+json": {
       "model_id": "e217f51613a84496ac0f12df8a582e96",
       "version_major": 2,
       "version_minor": 0
      },
      "text/plain": [
       "Upload 1 LFS files:   0%|          | 0/1 [00:00<?, ?it/s]"
      ]
     },
     "metadata": {},
     "output_type": "display_data"
    },
    {
     "data": {
      "application/vnd.jupyter.widget-view+json": {
       "model_id": "052356d0dc1346d48f2441549ee45547",
       "version_major": 2,
       "version_minor": 0
      },
      "text/plain": [
       "Creating parquet from Arrow format:   0%|          | 0/3159 [00:00<?, ?ba/s]"
      ]
     },
     "metadata": {},
     "output_type": "display_data"
    },
    {
     "data": {
      "application/vnd.jupyter.widget-view+json": {
       "model_id": "22aed28772414998bd5a155915da322a",
       "version_major": 2,
       "version_minor": 0
      },
      "text/plain": [
       "Upload 1 LFS files:   0%|          | 0/1 [00:00<?, ?it/s]"
      ]
     },
     "metadata": {},
     "output_type": "display_data"
    },
    {
     "data": {
      "application/vnd.jupyter.widget-view+json": {
       "model_id": "1eaa5576ed46497caebb7d2503348a15",
       "version_major": 2,
       "version_minor": 0
      },
      "text/plain": [
       "Creating parquet from Arrow format:   0%|          | 0/3159 [00:00<?, ?ba/s]"
      ]
     },
     "metadata": {},
     "output_type": "display_data"
    },
    {
     "data": {
      "application/vnd.jupyter.widget-view+json": {
       "model_id": "96144716d1d84da7b4c44a7d093c4c0a",
       "version_major": 2,
       "version_minor": 0
      },
      "text/plain": [
       "Upload 1 LFS files:   0%|          | 0/1 [00:00<?, ?it/s]"
      ]
     },
     "metadata": {},
     "output_type": "display_data"
    },
    {
     "data": {
      "application/vnd.jupyter.widget-view+json": {
       "model_id": "d28f81e615444b88b08fa7d3582d3c80",
       "version_major": 2,
       "version_minor": 0
      },
      "text/plain": [
       "Creating parquet from Arrow format:   0%|          | 0/3159 [00:00<?, ?ba/s]"
      ]
     },
     "metadata": {},
     "output_type": "display_data"
    },
    {
     "data": {
      "application/vnd.jupyter.widget-view+json": {
       "model_id": "d18951834aa34ef3b24aa7c5688422e1",
       "version_major": 2,
       "version_minor": 0
      },
      "text/plain": [
       "Upload 1 LFS files:   0%|          | 0/1 [00:00<?, ?it/s]"
      ]
     },
     "metadata": {},
     "output_type": "display_data"
    },
    {
     "data": {
      "application/vnd.jupyter.widget-view+json": {
       "model_id": "8a8e7b9ab7084dd894ad80dcc478af54",
       "version_major": 2,
       "version_minor": 0
      },
      "text/plain": [
       "Creating parquet from Arrow format:   0%|          | 0/3159 [00:00<?, ?ba/s]"
      ]
     },
     "metadata": {},
     "output_type": "display_data"
    },
    {
     "data": {
      "application/vnd.jupyter.widget-view+json": {
       "model_id": "ef3862fd91f4443f8371463ef5c11f29",
       "version_major": 2,
       "version_minor": 0
      },
      "text/plain": [
       "Upload 1 LFS files:   0%|          | 0/1 [00:00<?, ?it/s]"
      ]
     },
     "metadata": {},
     "output_type": "display_data"
    },
    {
     "data": {
      "application/vnd.jupyter.widget-view+json": {
       "model_id": "f333de34b5924013a321dd556c3b8127",
       "version_major": 2,
       "version_minor": 0
      },
      "text/plain": [
       "Creating parquet from Arrow format:   0%|          | 0/3159 [00:00<?, ?ba/s]"
      ]
     },
     "metadata": {},
     "output_type": "display_data"
    },
    {
     "data": {
      "application/vnd.jupyter.widget-view+json": {
       "model_id": "939a3c266cb046958038c8f4f50e66f3",
       "version_major": 2,
       "version_minor": 0
      },
      "text/plain": [
       "Upload 1 LFS files:   0%|          | 0/1 [00:00<?, ?it/s]"
      ]
     },
     "metadata": {},
     "output_type": "display_data"
    },
    {
     "data": {
      "application/vnd.jupyter.widget-view+json": {
       "model_id": "02b1ca0a0a7e47929a1c643de08b1802",
       "version_major": 2,
       "version_minor": 0
      },
      "text/plain": [
       "Creating parquet from Arrow format:   0%|          | 0/3159 [00:00<?, ?ba/s]"
      ]
     },
     "metadata": {},
     "output_type": "display_data"
    },
    {
     "data": {
      "application/vnd.jupyter.widget-view+json": {
       "model_id": "ddd919610e7245139f5cd1399669c222",
       "version_major": 2,
       "version_minor": 0
      },
      "text/plain": [
       "Upload 1 LFS files:   0%|          | 0/1 [00:00<?, ?it/s]"
      ]
     },
     "metadata": {},
     "output_type": "display_data"
    },
    {
     "data": {
      "application/vnd.jupyter.widget-view+json": {
       "model_id": "b88623d14f9e4afe885d17df406579e8",
       "version_major": 2,
       "version_minor": 0
      },
      "text/plain": [
       "Creating parquet from Arrow format:   0%|          | 0/3159 [00:00<?, ?ba/s]"
      ]
     },
     "metadata": {},
     "output_type": "display_data"
    },
    {
     "data": {
      "application/vnd.jupyter.widget-view+json": {
       "model_id": "11f63efacaa24a8fb6c35c2b0e433f99",
       "version_major": 2,
       "version_minor": 0
      },
      "text/plain": [
       "Upload 1 LFS files:   0%|          | 0/1 [00:00<?, ?it/s]"
      ]
     },
     "metadata": {},
     "output_type": "display_data"
    },
    {
     "data": {
      "application/vnd.jupyter.widget-view+json": {
       "model_id": "9605b5cb93384cd6a635b9d4a1602114",
       "version_major": 2,
       "version_minor": 0
      },
      "text/plain": [
       "Creating parquet from Arrow format:   0%|          | 0/3159 [00:00<?, ?ba/s]"
      ]
     },
     "metadata": {},
     "output_type": "display_data"
    },
    {
     "data": {
      "application/vnd.jupyter.widget-view+json": {
       "model_id": "e0d8ba1544fa4278927814e09f07ea46",
       "version_major": 2,
       "version_minor": 0
      },
      "text/plain": [
       "Upload 1 LFS files:   0%|          | 0/1 [00:00<?, ?it/s]"
      ]
     },
     "metadata": {},
     "output_type": "display_data"
    },
    {
     "data": {
      "application/vnd.jupyter.widget-view+json": {
       "model_id": "656dc9caa4dc499fb87297a287fb3637",
       "version_major": 2,
       "version_minor": 0
      },
      "text/plain": [
       "Creating parquet from Arrow format:   0%|          | 0/3159 [00:00<?, ?ba/s]"
      ]
     },
     "metadata": {},
     "output_type": "display_data"
    },
    {
     "data": {
      "application/vnd.jupyter.widget-view+json": {
       "model_id": "12ac884cad884f25836d7f0eba167fef",
       "version_major": 2,
       "version_minor": 0
      },
      "text/plain": [
       "Upload 1 LFS files:   0%|          | 0/1 [00:00<?, ?it/s]"
      ]
     },
     "metadata": {},
     "output_type": "display_data"
    },
    {
     "data": {
      "application/vnd.jupyter.widget-view+json": {
       "model_id": "5347995fc2bb41e9b84997405bc36153",
       "version_major": 2,
       "version_minor": 0
      },
      "text/plain": [
       "Creating parquet from Arrow format:   0%|          | 0/3159 [00:00<?, ?ba/s]"
      ]
     },
     "metadata": {},
     "output_type": "display_data"
    },
    {
     "data": {
      "application/vnd.jupyter.widget-view+json": {
       "model_id": "3dfd9b339f04498ea031a504501774c2",
       "version_major": 2,
       "version_minor": 0
      },
      "text/plain": [
       "Upload 1 LFS files:   0%|          | 0/1 [00:00<?, ?it/s]"
      ]
     },
     "metadata": {},
     "output_type": "display_data"
    },
    {
     "data": {
      "application/vnd.jupyter.widget-view+json": {
       "model_id": "4b55cd7db99c4eaa938531dd60dbf49f",
       "version_major": 2,
       "version_minor": 0
      },
      "text/plain": [
       "Creating parquet from Arrow format:   0%|          | 0/3159 [00:00<?, ?ba/s]"
      ]
     },
     "metadata": {},
     "output_type": "display_data"
    },
    {
     "data": {
      "application/vnd.jupyter.widget-view+json": {
       "model_id": "49442c347eb145419309e9b494c88db8",
       "version_major": 2,
       "version_minor": 0
      },
      "text/plain": [
       "Upload 1 LFS files:   0%|          | 0/1 [00:00<?, ?it/s]"
      ]
     },
     "metadata": {},
     "output_type": "display_data"
    },
    {
     "data": {
      "application/vnd.jupyter.widget-view+json": {
       "model_id": "2f929ac71b63463b8b44db14376490aa",
       "version_major": 2,
       "version_minor": 0
      },
      "text/plain": [
       "Creating parquet from Arrow format:   0%|          | 0/3159 [00:00<?, ?ba/s]"
      ]
     },
     "metadata": {},
     "output_type": "display_data"
    },
    {
     "data": {
      "application/vnd.jupyter.widget-view+json": {
       "model_id": "14d4f3b683614e3c88d1206b73216393",
       "version_major": 2,
       "version_minor": 0
      },
      "text/plain": [
       "Upload 1 LFS files:   0%|          | 0/1 [00:00<?, ?it/s]"
      ]
     },
     "metadata": {},
     "output_type": "display_data"
    },
    {
     "data": {
      "application/vnd.jupyter.widget-view+json": {
       "model_id": "09eab147ee1a46d8a4914f8615adfb88",
       "version_major": 2,
       "version_minor": 0
      },
      "text/plain": [
       "Creating parquet from Arrow format:   0%|          | 0/3159 [00:00<?, ?ba/s]"
      ]
     },
     "metadata": {},
     "output_type": "display_data"
    },
    {
     "data": {
      "application/vnd.jupyter.widget-view+json": {
       "model_id": "bb4d456493b8454ea52fc4a9583efb37",
       "version_major": 2,
       "version_minor": 0
      },
      "text/plain": [
       "Upload 1 LFS files:   0%|          | 0/1 [00:00<?, ?it/s]"
      ]
     },
     "metadata": {},
     "output_type": "display_data"
    },
    {
     "data": {
      "application/vnd.jupyter.widget-view+json": {
       "model_id": "b0cccc4f62984602b3e3fadf19e5d5eb",
       "version_major": 2,
       "version_minor": 0
      },
      "text/plain": [
       "Creating parquet from Arrow format:   0%|          | 0/3159 [00:00<?, ?ba/s]"
      ]
     },
     "metadata": {},
     "output_type": "display_data"
    },
    {
     "data": {
      "application/vnd.jupyter.widget-view+json": {
       "model_id": "dfabc0b2435743a29ab57c9b5109c1e5",
       "version_major": 2,
       "version_minor": 0
      },
      "text/plain": [
       "Upload 1 LFS files:   0%|          | 0/1 [00:00<?, ?it/s]"
      ]
     },
     "metadata": {},
     "output_type": "display_data"
    },
    {
     "data": {
      "application/vnd.jupyter.widget-view+json": {
       "model_id": "adca212fd8a44377a1df0cdc88944333",
       "version_major": 2,
       "version_minor": 0
      },
      "text/plain": [
       "Creating parquet from Arrow format:   0%|          | 0/3159 [00:00<?, ?ba/s]"
      ]
     },
     "metadata": {},
     "output_type": "display_data"
    },
    {
     "data": {
      "application/vnd.jupyter.widget-view+json": {
       "model_id": "8070e0d628f344429eaee34c2ea38dc5",
       "version_major": 2,
       "version_minor": 0
      },
      "text/plain": [
       "Upload 1 LFS files:   0%|          | 0/1 [00:00<?, ?it/s]"
      ]
     },
     "metadata": {},
     "output_type": "display_data"
    },
    {
     "data": {
      "application/vnd.jupyter.widget-view+json": {
       "model_id": "c2d3d7c1d76346158643d266a2d02485",
       "version_major": 2,
       "version_minor": 0
      },
      "text/plain": [
       "Creating parquet from Arrow format:   0%|          | 0/3159 [00:00<?, ?ba/s]"
      ]
     },
     "metadata": {},
     "output_type": "display_data"
    },
    {
     "data": {
      "application/vnd.jupyter.widget-view+json": {
       "model_id": "3101dbb3f5964872a9e83ee8b76741f0",
       "version_major": 2,
       "version_minor": 0
      },
      "text/plain": [
       "Upload 1 LFS files:   0%|          | 0/1 [00:00<?, ?it/s]"
      ]
     },
     "metadata": {},
     "output_type": "display_data"
    },
    {
     "data": {
      "application/vnd.jupyter.widget-view+json": {
       "model_id": "e2a01ef6ff9043a7a05e672c46f1a823",
       "version_major": 2,
       "version_minor": 0
      },
      "text/plain": [
       "Creating parquet from Arrow format:   0%|          | 0/3159 [00:00<?, ?ba/s]"
      ]
     },
     "metadata": {},
     "output_type": "display_data"
    },
    {
     "data": {
      "application/vnd.jupyter.widget-view+json": {
       "model_id": "9fdc1d0ed785482099b182212e572fef",
       "version_major": 2,
       "version_minor": 0
      },
      "text/plain": [
       "Upload 1 LFS files:   0%|          | 0/1 [00:00<?, ?it/s]"
      ]
     },
     "metadata": {},
     "output_type": "display_data"
    },
    {
     "data": {
      "application/vnd.jupyter.widget-view+json": {
       "model_id": "bb4faa5ace6c4d34b0a1d20b59ec4e36",
       "version_major": 2,
       "version_minor": 0
      },
      "text/plain": [
       "Creating parquet from Arrow format:   0%|          | 0/3159 [00:00<?, ?ba/s]"
      ]
     },
     "metadata": {},
     "output_type": "display_data"
    },
    {
     "data": {
      "application/vnd.jupyter.widget-view+json": {
       "model_id": "0fae861635f648ebbefde5754aabd9aa",
       "version_major": 2,
       "version_minor": 0
      },
      "text/plain": [
       "Upload 1 LFS files:   0%|          | 0/1 [00:00<?, ?it/s]"
      ]
     },
     "metadata": {},
     "output_type": "display_data"
    },
    {
     "data": {
      "application/vnd.jupyter.widget-view+json": {
       "model_id": "9564fa3c65434cfc8c569bea5422ed6e",
       "version_major": 2,
       "version_minor": 0
      },
      "text/plain": [
       "Creating parquet from Arrow format:   0%|          | 0/3159 [00:00<?, ?ba/s]"
      ]
     },
     "metadata": {},
     "output_type": "display_data"
    },
    {
     "data": {
      "application/vnd.jupyter.widget-view+json": {
       "model_id": "3807ccb4997f4798963b0ff0eacc626b",
       "version_major": 2,
       "version_minor": 0
      },
      "text/plain": [
       "Upload 1 LFS files:   0%|          | 0/1 [00:00<?, ?it/s]"
      ]
     },
     "metadata": {},
     "output_type": "display_data"
    },
    {
     "data": {
      "application/vnd.jupyter.widget-view+json": {
       "model_id": "e8d3a371860e4249a2f49dcda978f876",
       "version_major": 2,
       "version_minor": 0
      },
      "text/plain": [
       "Creating parquet from Arrow format:   0%|          | 0/3159 [00:00<?, ?ba/s]"
      ]
     },
     "metadata": {},
     "output_type": "display_data"
    },
    {
     "data": {
      "application/vnd.jupyter.widget-view+json": {
       "model_id": "7da30e6fe618415da59217e72adc88d1",
       "version_major": 2,
       "version_minor": 0
      },
      "text/plain": [
       "Upload 1 LFS files:   0%|          | 0/1 [00:00<?, ?it/s]"
      ]
     },
     "metadata": {},
     "output_type": "display_data"
    },
    {
     "data": {
      "application/vnd.jupyter.widget-view+json": {
       "model_id": "ee90551c7ac64aeeaec87d7c9c068b8b",
       "version_major": 2,
       "version_minor": 0
      },
      "text/plain": [
       "Creating parquet from Arrow format:   0%|          | 0/3159 [00:00<?, ?ba/s]"
      ]
     },
     "metadata": {},
     "output_type": "display_data"
    },
    {
     "data": {
      "application/vnd.jupyter.widget-view+json": {
       "model_id": "309b9212622b49e68a00beb280970f02",
       "version_major": 2,
       "version_minor": 0
      },
      "text/plain": [
       "Upload 1 LFS files:   0%|          | 0/1 [00:00<?, ?it/s]"
      ]
     },
     "metadata": {},
     "output_type": "display_data"
    },
    {
     "data": {
      "application/vnd.jupyter.widget-view+json": {
       "model_id": "0f838185305e4e2dbc06d5e9b6562dd9",
       "version_major": 2,
       "version_minor": 0
      },
      "text/plain": [
       "Creating parquet from Arrow format:   0%|          | 0/3159 [00:00<?, ?ba/s]"
      ]
     },
     "metadata": {},
     "output_type": "display_data"
    },
    {
     "data": {
      "application/vnd.jupyter.widget-view+json": {
       "model_id": "9d269e363a874f8cba40ddd1548c826d",
       "version_major": 2,
       "version_minor": 0
      },
      "text/plain": [
       "Upload 1 LFS files:   0%|          | 0/1 [00:00<?, ?it/s]"
      ]
     },
     "metadata": {},
     "output_type": "display_data"
    },
    {
     "data": {
      "application/vnd.jupyter.widget-view+json": {
       "model_id": "7145205d91ab42dc9950714feb26b0ef",
       "version_major": 2,
       "version_minor": 0
      },
      "text/plain": [
       "Creating parquet from Arrow format:   0%|          | 0/3159 [00:00<?, ?ba/s]"
      ]
     },
     "metadata": {},
     "output_type": "display_data"
    },
    {
     "data": {
      "application/vnd.jupyter.widget-view+json": {
       "model_id": "ff97b011ccef4b32bf9ae292372dc0a9",
       "version_major": 2,
       "version_minor": 0
      },
      "text/plain": [
       "Upload 1 LFS files:   0%|          | 0/1 [00:00<?, ?it/s]"
      ]
     },
     "metadata": {},
     "output_type": "display_data"
    },
    {
     "data": {
      "application/vnd.jupyter.widget-view+json": {
       "model_id": "e11450a51b5c4c1582a9391081f992f5",
       "version_major": 2,
       "version_minor": 0
      },
      "text/plain": [
       "Creating parquet from Arrow format:   0%|          | 0/3159 [00:00<?, ?ba/s]"
      ]
     },
     "metadata": {},
     "output_type": "display_data"
    },
    {
     "data": {
      "application/vnd.jupyter.widget-view+json": {
       "model_id": "20be9f9ba21247fe85cd7aab743ec7da",
       "version_major": 2,
       "version_minor": 0
      },
      "text/plain": [
       "Upload 1 LFS files:   0%|          | 0/1 [00:00<?, ?it/s]"
      ]
     },
     "metadata": {},
     "output_type": "display_data"
    },
    {
     "data": {
      "application/vnd.jupyter.widget-view+json": {
       "model_id": "063103ba55d843e4a37b2c2a882ab5e7",
       "version_major": 2,
       "version_minor": 0
      },
      "text/plain": [
       "Creating parquet from Arrow format:   0%|          | 0/3159 [00:00<?, ?ba/s]"
      ]
     },
     "metadata": {},
     "output_type": "display_data"
    },
    {
     "data": {
      "application/vnd.jupyter.widget-view+json": {
       "model_id": "5117213541fd479faf2e2dcce4f6b5a2",
       "version_major": 2,
       "version_minor": 0
      },
      "text/plain": [
       "Upload 1 LFS files:   0%|          | 0/1 [00:00<?, ?it/s]"
      ]
     },
     "metadata": {},
     "output_type": "display_data"
    },
    {
     "data": {
      "application/vnd.jupyter.widget-view+json": {
       "model_id": "34695121f6a94ad792feca7b6cd44a4e",
       "version_major": 2,
       "version_minor": 0
      },
      "text/plain": [
       "Creating parquet from Arrow format:   0%|          | 0/3159 [00:00<?, ?ba/s]"
      ]
     },
     "metadata": {},
     "output_type": "display_data"
    },
    {
     "data": {
      "application/vnd.jupyter.widget-view+json": {
       "model_id": "71d65b3d36ee4260bb5c99457ef9ab61",
       "version_major": 2,
       "version_minor": 0
      },
      "text/plain": [
       "Upload 1 LFS files:   0%|          | 0/1 [00:00<?, ?it/s]"
      ]
     },
     "metadata": {},
     "output_type": "display_data"
    },
    {
     "data": {
      "application/vnd.jupyter.widget-view+json": {
       "model_id": "a5532a41d120461d86e4f2ce942bed16",
       "version_major": 2,
       "version_minor": 0
      },
      "text/plain": [
       "Creating parquet from Arrow format:   0%|          | 0/3159 [00:00<?, ?ba/s]"
      ]
     },
     "metadata": {},
     "output_type": "display_data"
    },
    {
     "data": {
      "application/vnd.jupyter.widget-view+json": {
       "model_id": "ad00e56d322b4baebc185803524ebb31",
       "version_major": 2,
       "version_minor": 0
      },
      "text/plain": [
       "Upload 1 LFS files:   0%|          | 0/1 [00:00<?, ?it/s]"
      ]
     },
     "metadata": {},
     "output_type": "display_data"
    },
    {
     "data": {
      "application/vnd.jupyter.widget-view+json": {
       "model_id": "8539018372d34ee89e39c2b86a4a2a2c",
       "version_major": 2,
       "version_minor": 0
      },
      "text/plain": [
       "Creating parquet from Arrow format:   0%|          | 0/3159 [00:00<?, ?ba/s]"
      ]
     },
     "metadata": {},
     "output_type": "display_data"
    },
    {
     "data": {
      "application/vnd.jupyter.widget-view+json": {
       "model_id": "204749865f8d4f9fb79f1ea6e6db7a69",
       "version_major": 2,
       "version_minor": 0
      },
      "text/plain": [
       "Upload 1 LFS files:   0%|          | 0/1 [00:00<?, ?it/s]"
      ]
     },
     "metadata": {},
     "output_type": "display_data"
    },
    {
     "data": {
      "application/vnd.jupyter.widget-view+json": {
       "model_id": "36f554db09e94736bc628def5f4151f1",
       "version_major": 2,
       "version_minor": 0
      },
      "text/plain": [
       "Creating parquet from Arrow format:   0%|          | 0/3159 [00:00<?, ?ba/s]"
      ]
     },
     "metadata": {},
     "output_type": "display_data"
    },
    {
     "data": {
      "application/vnd.jupyter.widget-view+json": {
       "model_id": "ca3345e14a2a42a8a02703ca15ae9335",
       "version_major": 2,
       "version_minor": 0
      },
      "text/plain": [
       "Upload 1 LFS files:   0%|          | 0/1 [00:00<?, ?it/s]"
      ]
     },
     "metadata": {},
     "output_type": "display_data"
    },
    {
     "data": {
      "application/vnd.jupyter.widget-view+json": {
       "model_id": "067bc3f261544676a4f2b97c8a758d47",
       "version_major": 2,
       "version_minor": 0
      },
      "text/plain": [
       "Creating parquet from Arrow format:   0%|          | 0/3159 [00:00<?, ?ba/s]"
      ]
     },
     "metadata": {},
     "output_type": "display_data"
    },
    {
     "data": {
      "application/vnd.jupyter.widget-view+json": {
       "model_id": "c29cddf3a8a544c2a88f33a902433080",
       "version_major": 2,
       "version_minor": 0
      },
      "text/plain": [
       "Upload 1 LFS files:   0%|          | 0/1 [00:00<?, ?it/s]"
      ]
     },
     "metadata": {},
     "output_type": "display_data"
    },
    {
     "data": {
      "application/vnd.jupyter.widget-view+json": {
       "model_id": "d3cf58cb7fbc4d689a702a7576dbf973",
       "version_major": 2,
       "version_minor": 0
      },
      "text/plain": [
       "Creating parquet from Arrow format:   0%|          | 0/3159 [00:00<?, ?ba/s]"
      ]
     },
     "metadata": {},
     "output_type": "display_data"
    },
    {
     "data": {
      "application/vnd.jupyter.widget-view+json": {
       "model_id": "328ec6f3adce4b46b2f454ffd5ebcb6f",
       "version_major": 2,
       "version_minor": 0
      },
      "text/plain": [
       "Upload 1 LFS files:   0%|          | 0/1 [00:00<?, ?it/s]"
      ]
     },
     "metadata": {},
     "output_type": "display_data"
    },
    {
     "data": {
      "application/vnd.jupyter.widget-view+json": {
       "model_id": "7f1410c1a88e4297966b5b3869d1fe48",
       "version_major": 2,
       "version_minor": 0
      },
      "text/plain": [
       "Creating parquet from Arrow format:   0%|          | 0/3159 [00:00<?, ?ba/s]"
      ]
     },
     "metadata": {},
     "output_type": "display_data"
    },
    {
     "data": {
      "application/vnd.jupyter.widget-view+json": {
       "model_id": "a112f4b21efe4b8c98d962119b25ff0b",
       "version_major": 2,
       "version_minor": 0
      },
      "text/plain": [
       "Upload 1 LFS files:   0%|          | 0/1 [00:00<?, ?it/s]"
      ]
     },
     "metadata": {},
     "output_type": "display_data"
    },
    {
     "data": {
      "application/vnd.jupyter.widget-view+json": {
       "model_id": "a095117596e143fe996c27db82d93c37",
       "version_major": 2,
       "version_minor": 0
      },
      "text/plain": [
       "Creating parquet from Arrow format:   0%|          | 0/3159 [00:00<?, ?ba/s]"
      ]
     },
     "metadata": {},
     "output_type": "display_data"
    },
    {
     "data": {
      "application/vnd.jupyter.widget-view+json": {
       "model_id": "b8dd8f791b434d4ca35577e1ba2307c0",
       "version_major": 2,
       "version_minor": 0
      },
      "text/plain": [
       "Upload 1 LFS files:   0%|          | 0/1 [00:00<?, ?it/s]"
      ]
     },
     "metadata": {},
     "output_type": "display_data"
    },
    {
     "name": "stderr",
     "output_type": "stream",
     "text": [
      "Updating downloaded metadata with the new split.\n"
     ]
    }
   ],
   "source": [
    "concat_ds.push_to_hub('rokset3/136Mkeystrokes')"
   ]
  },
  {
   "cell_type": "markdown",
   "metadata": {},
   "source": [
    "# Dataset Preprocessing"
   ]
  },
  {
   "cell_type": "markdown",
   "metadata": {},
   "source": [
    "## Experiment procedures \n",
    "retrieved from https://arxiv.org/pdf/2101.05570.pdf\n",
    "\n",
    "* input_seq.shape = [seq_len, 5]\n",
    "* keycode_normalized = keycode/255\n",
    "* timing features converted to seconds\n",
    "\n",
    "\n",
    "#### Dataset procedures\n",
    "* take 68k first subjects\n",
    "* evaluate on remaining 100k subjects\n",
    "* no overlap between subjects\n",
    "\n",
    "# My experimental procedure:\n",
    "After dataset filtering and loading i have\n",
    "* unique ids in train split: 77873\n",
    "* unique ids in test split: 77874\n",
    "* overall ids in both splits: 155747\n",
    "\n",
    "----\n",
    "### Preprocessing steps:\n",
    "\n"
   ]
  },
  {
   "cell_type": "markdown",
   "metadata": {},
   "source": [
    "$$\n",
    "keycode = \\frac{keycode}{255} \\\\\n",
    "HL_s = \\frac{HL_{ms}}{1000} \\\\\n",
    "IL_s = \\frac{IL_{ms}}{1000}\n",
    "PL_s = \\frac{PL_{ms}}{1000}\n",
    "RL_s = \\frac{RL_{ms}}{1000}\n",
    "$$\n"
   ]
  },
  {
   "cell_type": "code",
   "execution_count": 112,
   "metadata": {},
   "outputs": [],
   "source": [
    "def preprocessing_fnct(example):\n",
    "    example['keycode_ids'] = (np.array(example['keycode_ids'])/255).tolist()\n",
    "    example['hl'] = (np.array(example['hl'])/1000).tolist()\n",
    "    example['il'] = (np.array(example['il'])/1000).tolist()\n",
    "    example['pl'] = (np.array(example['pl'])/1000).tolist()\n",
    "    example['rl'] = (np.array(example['rl'])/1000).tolist()\n",
    "    return example"
   ]
  },
  {
   "cell_type": "code",
   "execution_count": 123,
   "metadata": {
    "tags": []
   },
   "outputs": [
    {
     "data": {
      "application/vnd.jupyter.widget-view+json": {
       "model_id": "",
       "version_major": 2,
       "version_minor": 0
      },
      "text/plain": [
       "Map (num_proc=24):   0%|          | 0/1168095 [00:00<?, ? examples/s]"
      ]
     },
     "metadata": {},
     "output_type": "display_data"
    },
    {
     "data": {
      "application/vnd.jupyter.widget-view+json": {
       "model_id": "",
       "version_major": 2,
       "version_minor": 0
      },
      "text/plain": [
       "Map (num_proc=24):   0%|          | 0/1168110 [00:00<?, ? examples/s]"
      ]
     },
     "metadata": {},
     "output_type": "display_data"
    }
   ],
   "source": [
    "train_ds_normalized = train_ds.map(preprocessing_fnct, batched=False, num_proc=24)\n",
    "test_ds_normalized = test_ds.map(preprocessing_fnct, batched=False, num_proc=24)"
   ]
  },
  {
   "cell_type": "markdown",
   "metadata": {},
   "source": [
    "# Exploraloty Data Analysis"
   ]
  },
  {
   "cell_type": "code",
   "execution_count": 179,
   "metadata": {},
   "outputs": [],
   "source": [
    "import matplotlib.pyplot as plt\n",
    "import seaborn as sns\n",
    "sns.set()\n",
    "def calculate_mean_std(df: pd.DataFrame,\n",
    "                       col_name:str,\n",
    "                       normalize_by:int):\n",
    "        flattened_list = np.concatenate(df[f'{col_name}'].values)/normalize_by\n",
    "        \n",
    "        return flattened_list.mean(), flattened_list.std()"
   ]
  },
  {
   "cell_type": "code",
   "execution_count": 173,
   "metadata": {},
   "outputs": [
    {
     "data": {
      "text/plain": [
       "Index(['participant_id', 'section_id', 'keycode_ids', 'hl', 'il', 'pl', 'rl'], dtype='object')"
      ]
     },
     "execution_count": 173,
     "metadata": {},
     "output_type": "execute_result"
    }
   ],
   "source": [
    "features_df_full.columns"
   ]
  },
  {
   "cell_type": "code",
   "execution_count": 174,
   "metadata": {},
   "outputs": [],
   "source": [
    "keycode_mean, keycode_std = calculate_mean_std(features_df_full, 'keycode_ids', 255)\n",
    "hl_mean, hl_std = calculate_mean_std(features_df_full, 'hl', 1000)\n",
    "il_mean, il_std = calculate_mean_std(features_df_full, 'il', 1000)\n",
    "pl_mean, pl_std = calculate_mean_std(features_df_full, 'pl', 1000)\n",
    "rl_mean, rl_std = calculate_mean_std(features_df_full, 'rl', 1000)"
   ]
  },
  {
   "cell_type": "code",
   "execution_count": 192,
   "metadata": {},
   "outputs": [
    {
     "data": {
      "image/png": "[encoded data removed]",
      "text/plain": [
       "<Figure size 640x480 with 1 Axes>"
      ]
     },
     "metadata": {},
     "output_type": "display_data"
    }
   ],
   "source": [
    "labels = ['keycode', 'hl', 'il', 'pl', 'rl']\n",
    "means = [keycode_mean, hl_mean, il_mean, pl_mean, rl_mean]\n",
    "std_devs = [keycode_std, hl_std, il_std, pl_std, rl_std]\n",
    "x = np.arange(len(labels))\n",
    "width = 0.35\n",
    "\n",
    "fig, ax = plt.subplots()\n",
    "\n",
    "# Create the bars\n",
    "rects = ax.bar(x, means, width, label='Means')\n",
    "\n",
    "# Add error bars behind the bars\n",
    "ax.errorbar(x, means, yerr=std_devs, fmt='none', color='gray', capsize=5, zorder=-1)\n",
    "\n",
    "ax.set_ylabel('Values')\n",
    "ax.set_title('Means with Standard Deviations')\n",
    "ax.set_xticks(x)\n",
    "ax.set_xticklabels(labels)\n",
    "ax.legend()\n",
    "\n",
    "for rect in rects:\n",
    "    height = rect.get_height()\n",
    "    ax.annotate(f'{height:.2f}',\n",
    "                xy=(rect.get_x() + rect.get_width() / 2, height),\n",
    "                xytext=(0, 3),\n",
    "                textcoords=\"offset points\",\n",
    "                ha='center', va='bottom')\n",
    "\n",
    "fig.tight_layout()\n",
    "\n",
    "plt.show()"
   ]
  },
  {
   "cell_type": "markdown",
   "metadata": {},
   "source": [
    "### Distributions"
   ]
  },
  {
   "cell_type": "code",
   "execution_count": 194,
   "metadata": {},
   "outputs": [],
   "source": [
    "def flatten_data(df: pd.DataFrame,\n",
    "                 col_name:str,\n",
    "                 normalize_by:int):\n",
    "        flattened_list = np.concatenate(df[f'{col_name}'].values)/normalize_by\n",
    "        \n",
    "        return flattened_list"
   ]
  },
  {
   "cell_type": "code",
   "execution_count": 195,
   "metadata": {},
   "outputs": [],
   "source": [
    "keycode_flattened = flatten_data(features_df_full, 'keycode_ids', 255)\n",
    "hl_flattened = flatten_data(features_df_full, 'hl', 1000)\n",
    "il_flattened = flatten_data(features_df_full, 'il', 1000)\n",
    "pl_flattened = flatten_data(features_df_full, 'pl', 1000)\n",
    "rl_flattened = flatten_data(features_df_full, 'rl', 1000)"
   ]
  },
  {
   "cell_type": "code",
   "execution_count": 207,
   "metadata": {},
   "outputs": [
    {
     "data": {
      "text/plain": [
       "Text(0.5, 1.0, 'Distribution of keycodes normalized')"
      ]
     },
     "execution_count": 207,
     "metadata": {},
     "output_type": "execute_result"
    },
    {
     "data": {
      "image/png": "[encoded data removed]",
      "text/plain": [
       "<Figure size 640x480 with 1 Axes>"
      ]
     },
     "metadata": {},
     "output_type": "display_data"
    }
   ],
   "source": [
    "plt.hist(keycode_flattened)\n",
    "plt.title('Distribution of keycodes normalized')"
   ]
  },
  {
   "cell_type": "code",
   "execution_count": 214,
   "metadata": {},
   "outputs": [
    {
     "data": {
      "text/plain": [
       "Text(0.5, 1.0, 'Distribution of HL normalized')"
      ]
     },
     "execution_count": 214,
     "metadata": {},
     "output_type": "execute_result"
    },
    {
     "data": {
      "image/png": "[encoded data removed]",
      "text/plain": [
       "<Figure size 640x480 with 1 Axes>"
      ]
     },
     "metadata": {},
     "output_type": "display_data"
    }
   ],
   "source": [
    "plt.hist(hl_flattened, bins=50, density=True, alpha=0.7, color='blue')\n",
    "plt.title('Distribution of HL normalized')"
   ]
  },
  {
   "cell_type": "code",
   "execution_count": 215,
   "metadata": {},
   "outputs": [
    {
     "data": {
      "text/plain": [
       "Text(0.5, 1.0, 'Distribution of IL normalized')"
      ]
     },
     "execution_count": 215,
     "metadata": {},
     "output_type": "execute_result"
    },
    {
     "data": {
      "image/png": "[encoded data removed]",
      "text/plain": [
       "<Figure size 640x480 with 1 Axes>"
      ]
     },
     "metadata": {},
     "output_type": "display_data"
    }
   ],
   "source": [
    "plt.hist(il_flattened, bins=50, density=True, alpha=0.7, color='blue')\n",
    "plt.title('Distribution of IL normalized')"
   ]
  },
  {
   "cell_type": "code",
   "execution_count": 216,
   "metadata": {},
   "outputs": [
    {
     "data": {
      "text/plain": [
       "Text(0.5, 1.0, 'Distribution of PL normalized')"
      ]
     },
     "execution_count": 216,
     "metadata": {},
     "output_type": "execute_result"
    },
    {
     "data": {
      "image/png": "[encoded data removed]",
      "text/plain": [
       "<Figure size 640x480 with 1 Axes>"
      ]
     },
     "metadata": {},
     "output_type": "display_data"
    }
   ],
   "source": [
    "plt.hist(pl_flattened, bins=50, density=True, alpha=0.7, color='blue')\n",
    "plt.title('Distribution of PL normalized')"
   ]
  },
  {
   "cell_type": "code",
   "execution_count": 217,
   "metadata": {},
   "outputs": [
    {
     "data": {
      "text/plain": [
       "Text(0.5, 1.0, 'Distribution of RL normalized')"
      ]
     },
     "execution_count": 217,
     "metadata": {},
     "output_type": "execute_result"
    },
    {
     "data": {
      "image/png": "[encoded data removed]",
      "text/plain": [
       "<Figure size 640x480 with 1 Axes>"
      ]
     },
     "metadata": {},
     "output_type": "display_data"
    }
   ],
   "source": [
    "plt.hist(rl_flattened, bins=50, density=True, alpha=0.7, color='blue')\n",
    "plt.title('Distribution of RL normalized')"
   ]
  },
  {
   "cell_type": "markdown",
   "metadata": {},
   "source": [
    "### Distributions of outliers"
   ]
  },
  {
   "cell_type": "code",
   "execution_count": 231,
   "metadata": {},
   "outputs": [],
   "source": [
    "def get_outliers(arr, val):\n",
    "    mask = np.where(arr> val, True, False)\n",
    "    return arr[mask]\n",
    "    "
   ]
  },
  {
   "cell_type": "code",
   "execution_count": 233,
   "metadata": {},
   "outputs": [
    {
     "data": {
      "text/plain": [
       "Text(0.5, 1.0, 'Distribution of HL outliers normalized')"
      ]
     },
     "execution_count": 233,
     "metadata": {},
     "output_type": "execute_result"
    },
    {
     "data": {
      "image/png": "[encoded data removed]",
      "text/plain": [
       "<Figure size 640x480 with 1 Axes>"
      ]
     },
     "metadata": {},
     "output_type": "display_data"
    }
   ],
   "source": [
    "arr = get_outliers(hl_flattened, 2)\n",
    "plt.hist(arr, bins=50, density=True, alpha=0.7, color='blue')\n",
    "plt.title('Distribution of HL outliers normalized')"
   ]
  },
  {
   "cell_type": "code",
   "execution_count": 236,
   "metadata": {},
   "outputs": [
    {
     "data": {
      "text/plain": [
       "Text(0.5, 1.0, 'Distribution of IL outliers normalized')"
      ]
     },
     "execution_count": 236,
     "metadata": {},
     "output_type": "execute_result"
    },
    {
     "data": {
      "image/png": "[encoded data removed]",
      "text/plain": [
       "<Figure size 640x480 with 1 Axes>"
      ]
     },
     "metadata": {},
     "output_type": "display_data"
    }
   ],
   "source": [
    "arr = get_outliers(il_flattened, 2)\n",
    "plt.hist(arr, bins=50, density=True, alpha=0.7, color='blue')\n",
    "plt.title('Distribution of IL outliers normalized')"
   ]
  },
  {
   "cell_type": "code",
   "execution_count": 235,
   "metadata": {},
   "outputs": [
    {
     "data": {
      "text/plain": [
       "Text(0.5, 1.0, 'Distribution of PL outliers normalized')"
      ]
     },
     "execution_count": 235,
     "metadata": {},
     "output_type": "execute_result"
    },
    {
     "data": {
      "image/png": "[encoded data removed]",
      "text/plain": [
       "<Figure size 640x480 with 1 Axes>"
      ]
     },
     "metadata": {},
     "output_type": "display_data"
    }
   ],
   "source": [
    "arr = get_outliers(pl_flattened, 2)\n",
    "plt.hist(arr, bins=50, density=True, alpha=0.7, color='blue')\n",
    "plt.title('Distribution of PL outliers normalized')"
   ]
  },
  {
   "cell_type": "code",
   "execution_count": 237,
   "metadata": {},
   "outputs": [
    {
     "data": {
      "text/plain": [
       "Text(0.5, 1.0, 'Distribution of RL outliers normalized')"
      ]
     },
     "execution_count": 237,
     "metadata": {},
     "output_type": "execute_result"
    },
    {
     "data": {
      "image/png": "[encoded data removed]",
      "text/plain": [
       "<Figure size 640x480 with 1 Axes>"
      ]
     },
     "metadata": {},
     "output_type": "display_data"
    }
   ],
   "source": [
    "arr = get_outliers(rl_flattened, 2)\n",
    "plt.hist(arr, bins=50, density=True, alpha=0.7, color='blue')\n",
    "plt.title('Distribution of RL outliers normalized')"
   ]
  },
  {
   "cell_type": "markdown",
   "metadata": {},
   "source": [
    "### Average sequence_len"
   ]
  },
  {
   "cell_type": "code",
   "execution_count": 244,
   "metadata": {
    "collapsed": true,
    "jupyter": {
     "outputs_hidden": true
    },
    "tags": []
   },
   "outputs": [
    {
     "data": {
      "application/vnd.jupyter.widget-view+json": {
       "model_id": "cdc3302ee60b43b8b5e91429b429c4a7",
       "version_major": 2,
       "version_minor": 0
      },
      "text/plain": [
       "VBox(children=(HBox(children=(IntProgress(value=0, description='0.00%', max=97342), Label(value='0 / 97342')))…"
      ]
     },
     "metadata": {},
     "output_type": "display_data"
    }
   ],
   "source": [
    "features_df_full['seq_len'] = features_df_full.keycode_ids.parallel_apply(len)"
   ]
  },
  {
   "cell_type": "code",
   "execution_count": 246,
   "metadata": {},
   "outputs": [
    {
     "data": {
      "text/plain": [
       "(array([1.369037e+06, 9.555140e+05, 1.144200e+04, 1.730000e+02,\n",
       "        2.400000e+01, 1.200000e+01, 1.000000e+00, 1.000000e+00,\n",
       "        0.000000e+00, 1.000000e+00]),\n",
       " array([  1. ,  51.1, 101.2, 151.3, 201.4, 251.5, 301.6, 351.7, 401.8,\n",
       "        451.9, 502. ]),\n",
       " <BarContainer object of 10 artists>)"
      ]
     },
     "execution_count": 246,
     "metadata": {},
     "output_type": "execute_result"
    },
    {
     "data": {
      "image/png": "[encoded data removed]",
      "text/plain": [
       "<Figure size 640x480 with 1 Axes>"
      ]
     },
     "metadata": {},
     "output_type": "display_data"
    }
   ],
   "source": [
    "plt.hist(features_df_full.seq_len.values)"
   ]
  },
  {
   "cell_type": "code",
   "execution_count": 248,
   "metadata": {},
   "outputs": [
    {
     "data": {
      "text/plain": [
       "{'whiskers': [<matplotlib.lines.Line2D at 0x7fa237da5610>,\n",
       "  <matplotlib.lines.Line2D at 0x7fa237da58b0>],\n",
       " 'caps': [<matplotlib.lines.Line2D at 0x7fa237da5b50>,\n",
       "  <matplotlib.lines.Line2D at 0x7fa237da5df0>],\n",
       " 'boxes': [<matplotlib.lines.Line2D at 0x7fa237da5370>],\n",
       " 'medians': [<matplotlib.lines.Line2D at 0x7fa237dc50d0>],\n",
       " 'fliers': [<matplotlib.lines.Line2D at 0x7fa237dc5370>],\n",
       " 'means': []}"
      ]
     },
     "execution_count": 248,
     "metadata": {},
     "output_type": "execute_result"
    },
    {
     "data": {
      "image/png": "[encoded data removed]",
      "text/plain": [
       "<Figure size 640x480 with 1 Axes>"
      ]
     },
     "metadata": {},
     "output_type": "display_data"
    }
   ],
   "source": [
    "plt.boxplot(features_df_full.seq_len.values)"
   ]
  },
  {
   "cell_type": "markdown",
   "metadata": {},
   "source": [
    "##### What are these outliers?"
   ]
  },
  {
   "cell_type": "code",
   "execution_count": 257,
   "metadata": {},
   "outputs": [],
   "source": [
    "section_outlier_ids = features_df_full[features_df_full.seq_len > 100].section_id.values\n",
    "participant_outlier_ids = features_df_full[features_df_full.seq_len > 100].participant_id.values"
   ]
  },
  {
   "cell_type": "markdown",
   "metadata": {},
   "source": [
    "### Loading normalized dataset to huggingface"
   ]
  },
  {
   "cell_type": "code",
   "execution_count": 259,
   "metadata": {},
   "outputs": [
    {
     "name": "stderr",
     "output_type": "stream",
     "text": [
      "100%|██████████| 12928/12928 [01:37<00:00, 132.46it/s]\n"
     ]
    }
   ],
   "source": [
    "outlier_dfs = []\n",
    "outlier_paths = []\n",
    "for idx in participant_outlier_ids:\n",
    "    outlier_paths.append(f'{idx}_keystrokes.txt')\n",
    "    \n",
    "for path in tqdm(outlier_paths):\n",
    "    data_path = os.path.join(os.getcwd(), fr'data/files/{path}')\n",
    "    df = pd.read_csv(data_path, sep='\\t')\n",
    "    for id in sorted(df.TEST_SECTION_ID.unique()):\n",
    "        curr_df = df[df.TEST_SECTION_ID == id]\n",
    "        outlier_dfs.append(curr_df)"
   ]
  },
  {
   "cell_type": "code",
   "execution_count": 276,
   "metadata": {},
   "outputs": [],
   "source": [
    "outlier_pandas = pd.concat(outlier_dfs)\n",
    "outlier_pandas = outlier_pandas[outlier_pandas.TEST_SECTION_ID.isin(section_outlier_ids)]"
   ]
  },
  {
   "cell_type": "code",
   "execution_count": 277,
   "metadata": {},
   "outputs": [],
   "source": [
    "outlier_pandas_nodup = outlier_pandas.drop_duplicates(subset=['TEST_SECTION_ID'], keep='first')"
   ]
  },
  {
   "cell_type": "code",
   "execution_count": 286,
   "metadata": {},
   "outputs": [
    {
     "name": "stdout",
     "output_type": "stream",
     "text": [
      "18.76 % of inputs contains BackSpace\n"
     ]
    }
   ],
   "source": [
    "print(f\"{outlier_pandas[outlier_pandas.KEYCODE == 8].shape[0]/outlier_pandas.shape[0] * 100 :.2f} % of inputs contains BackSpace\" )"
   ]
  },
  {
   "cell_type": "code",
   "execution_count": 287,
   "metadata": {},
   "outputs": [
    {
     "data": {
      "text/plain": [
       "KEYCODE\n",
       "8      423885\n",
       "32     256875\n",
       "69     167910\n",
       "84     120711\n",
       "65     108120\n",
       "        ...  \n",
       "120         2\n",
       "180         1\n",
       "116         1\n",
       "92          1\n",
       "177         1\n",
       "Name: count, Length: 107, dtype: int64"
      ]
     },
     "execution_count": 287,
     "metadata": {},
     "output_type": "execute_result"
    }
   ],
   "source": [
    "outlier_pandas.KEYCODE.value_counts()"
   ]
  },
  {
   "cell_type": "markdown",
   "metadata": {},
   "source": [
    "### Loading Normalized dataset to huggingface"
   ]
  },
  {
   "cell_type": "code",
   "execution_count": 288,
   "metadata": {},
   "outputs": [],
   "source": [
    "ds_normalized = DatasetDict({\"train\":train_ds_normalized,\"test\":test_ds_normalized})"
   ]
  },
  {
   "cell_type": "code",
   "execution_count": 289,
   "metadata": {},
   "outputs": [
    {
     "name": "stderr",
     "output_type": "stream",
     "text": [
      "Pushing split train to the Hub.\n"
     ]
    },
    {
     "data": {
      "application/vnd.jupyter.widget-view+json": {
       "model_id": "2b817474b9c141189be38bd675974e7e",
       "version_major": 2,
       "version_minor": 0
      },
      "text/plain": [
       "Pushing dataset shards to the dataset hub:   0%|          | 0/5 [00:00<?, ?it/s]"
      ]
     },
     "metadata": {},
     "output_type": "display_data"
    },
    {
     "data": {
      "application/vnd.jupyter.widget-view+json": {
       "model_id": "d760cb717de9453aae736940752b9c72",
       "version_major": 2,
       "version_minor": 0
      },
      "text/plain": [
       "Creating parquet from Arrow format:   0%|          | 0/234 [00:00<?, ?ba/s]"
      ]
     },
     "metadata": {},
     "output_type": "display_data"
    },
    {
     "data": {
      "application/vnd.jupyter.widget-view+json": {
       "model_id": "a73c6e47e9334e12ab6e7024bd95756a",
       "version_major": 2,
       "version_minor": 0
      },
      "text/plain": [
       "Upload 1 LFS files:   0%|          | 0/1 [00:00<?, ?it/s]"
      ]
     },
     "metadata": {},
     "output_type": "display_data"
    },
    {
     "data": {
      "application/vnd.jupyter.widget-view+json": {
       "model_id": "e2a8f7fda3c447eba30c6a455c21074e",
       "version_major": 2,
       "version_minor": 0
      },
      "text/plain": [
       "Creating parquet from Arrow format:   0%|          | 0/234 [00:00<?, ?ba/s]"
      ]
     },
     "metadata": {},
     "output_type": "display_data"
    },
    {
     "data": {
      "application/vnd.jupyter.widget-view+json": {
       "model_id": "5c26f09039f64ab4802008f9a83a992c",
       "version_major": 2,
       "version_minor": 0
      },
      "text/plain": [
       "Upload 1 LFS files:   0%|          | 0/1 [00:00<?, ?it/s]"
      ]
     },
     "metadata": {},
     "output_type": "display_data"
    },
    {
     "data": {
      "application/vnd.jupyter.widget-view+json": {
       "model_id": "d8594f45d1674439b6cd054becda4a8c",
       "version_major": 2,
       "version_minor": 0
      },
      "text/plain": [
       "Creating parquet from Arrow format:   0%|          | 0/234 [00:00<?, ?ba/s]"
      ]
     },
     "metadata": {},
     "output_type": "display_data"
    },
    {
     "data": {
      "application/vnd.jupyter.widget-view+json": {
       "model_id": "52c2bf16c76e4f1caadcbddbfa715da1",
       "version_major": 2,
       "version_minor": 0
      },
      "text/plain": [
       "Upload 1 LFS files:   0%|          | 0/1 [00:00<?, ?it/s]"
      ]
     },
     "metadata": {},
     "output_type": "display_data"
    },
    {
     "data": {
      "application/vnd.jupyter.widget-view+json": {
       "model_id": "b78b2dd2c8bb4f40b341d3153b2d2641",
       "version_major": 2,
       "version_minor": 0
      },
      "text/plain": [
       "Creating parquet from Arrow format:   0%|          | 0/234 [00:00<?, ?ba/s]"
      ]
     },
     "metadata": {},
     "output_type": "display_data"
    },
    {
     "data": {
      "application/vnd.jupyter.widget-view+json": {
       "model_id": "bcaa5dbfd32645e3aa47d9373ca270e9",
       "version_major": 2,
       "version_minor": 0
      },
      "text/plain": [
       "Upload 1 LFS files:   0%|          | 0/1 [00:00<?, ?it/s]"
      ]
     },
     "metadata": {},
     "output_type": "display_data"
    },
    {
     "data": {
      "application/vnd.jupyter.widget-view+json": {
       "model_id": "14af1c28ace84550aaf7be9c5029036a",
       "version_major": 2,
       "version_minor": 0
      },
      "text/plain": [
       "Creating parquet from Arrow format:   0%|          | 0/234 [00:00<?, ?ba/s]"
      ]
     },
     "metadata": {},
     "output_type": "display_data"
    },
    {
     "data": {
      "application/vnd.jupyter.widget-view+json": {
       "model_id": "f8488261a217422b96057f390be3a3d7",
       "version_major": 2,
       "version_minor": 0
      },
      "text/plain": [
       "Upload 1 LFS files:   0%|          | 0/1 [00:00<?, ?it/s]"
      ]
     },
     "metadata": {},
     "output_type": "display_data"
    },
    {
     "name": "stderr",
     "output_type": "stream",
     "text": [
      "Pushing split test to the Hub.\n"
     ]
    },
    {
     "data": {
      "application/vnd.jupyter.widget-view+json": {
       "model_id": "93d49b3a02e64fc68106a0b452d0ca14",
       "version_major": 2,
       "version_minor": 0
      },
      "text/plain": [
       "Pushing dataset shards to the dataset hub:   0%|          | 0/5 [00:00<?, ?it/s]"
      ]
     },
     "metadata": {},
     "output_type": "display_data"
    },
    {
     "data": {
      "application/vnd.jupyter.widget-view+json": {
       "model_id": "6ce776df231042aca17155b170a43683",
       "version_major": 2,
       "version_minor": 0
      },
      "text/plain": [
       "Creating parquet from Arrow format:   0%|          | 0/234 [00:00<?, ?ba/s]"
      ]
     },
     "metadata": {},
     "output_type": "display_data"
    },
    {
     "data": {
      "application/vnd.jupyter.widget-view+json": {
       "model_id": "4aff8e2788ed424ea7fe72d83074357e",
       "version_major": 2,
       "version_minor": 0
      },
      "text/plain": [
       "Upload 1 LFS files:   0%|          | 0/1 [00:00<?, ?it/s]"
      ]
     },
     "metadata": {},
     "output_type": "display_data"
    },
    {
     "data": {
      "application/vnd.jupyter.widget-view+json": {
       "model_id": "dcb23944781e4daa859d077555229727",
       "version_major": 2,
       "version_minor": 0
      },
      "text/plain": [
       "Creating parquet from Arrow format:   0%|          | 0/234 [00:00<?, ?ba/s]"
      ]
     },
     "metadata": {},
     "output_type": "display_data"
    },
    {
     "data": {
      "application/vnd.jupyter.widget-view+json": {
       "model_id": "efc2563295834282bf71946495dfeeda",
       "version_major": 2,
       "version_minor": 0
      },
      "text/plain": [
       "Upload 1 LFS files:   0%|          | 0/1 [00:00<?, ?it/s]"
      ]
     },
     "metadata": {},
     "output_type": "display_data"
    },
    {
     "data": {
      "application/vnd.jupyter.widget-view+json": {
       "model_id": "c5f46835a049412397b854f124e1376f",
       "version_major": 2,
       "version_minor": 0
      },
      "text/plain": [
       "Creating parquet from Arrow format:   0%|          | 0/234 [00:00<?, ?ba/s]"
      ]
     },
     "metadata": {},
     "output_type": "display_data"
    },
    {
     "data": {
      "application/vnd.jupyter.widget-view+json": {
       "model_id": "ed3d9e7a312249898fe7e30c50522002",
       "version_major": 2,
       "version_minor": 0
      },
      "text/plain": [
       "Upload 1 LFS files:   0%|          | 0/1 [00:00<?, ?it/s]"
      ]
     },
     "metadata": {},
     "output_type": "display_data"
    },
    {
     "data": {
      "application/vnd.jupyter.widget-view+json": {
       "model_id": "5532cebc761b4964a9f88c418a0ac5cf",
       "version_major": 2,
       "version_minor": 0
      },
      "text/plain": [
       "Creating parquet from Arrow format:   0%|          | 0/234 [00:00<?, ?ba/s]"
      ]
     },
     "metadata": {},
     "output_type": "display_data"
    },
    {
     "data": {
      "application/vnd.jupyter.widget-view+json": {
       "model_id": "1879526f4a64407aa5f248854eda5505",
       "version_major": 2,
       "version_minor": 0
      },
      "text/plain": [
       "Upload 1 LFS files:   0%|          | 0/1 [00:00<?, ?it/s]"
      ]
     },
     "metadata": {},
     "output_type": "display_data"
    },
    {
     "data": {
      "application/vnd.jupyter.widget-view+json": {
       "model_id": "273a37e3512f41069a43abe376a62e90",
       "version_major": 2,
       "version_minor": 0
      },
      "text/plain": [
       "Creating parquet from Arrow format:   0%|          | 0/234 [00:00<?, ?ba/s]"
      ]
     },
     "metadata": {},
     "output_type": "display_data"
    },
    {
     "data": {
      "application/vnd.jupyter.widget-view+json": {
       "model_id": "de8ba7eccc0644749f148606d9d5df45",
       "version_major": 2,
       "version_minor": 0
      },
      "text/plain": [
       "Upload 1 LFS files:   0%|          | 0/1 [00:00<?, ?it/s]"
      ]
     },
     "metadata": {},
     "output_type": "display_data"
    }
   ],
   "source": [
    "ds_normalized.push_to_hub('rokset3/keystrokes136M_normalized_features')"
   ]
  }
 ],
 "metadata": {
  "kernelspec": {
   "display_name": "temirlan_dev",
   "language": "python",
   "name": "temirlan_dev"
  },
  "language_info": {
   "codemirror_mode": {
    "name": "ipython",
    "version": 3
   },
   "file_extension": ".py",
   "mimetype": "text/x-python",
   "name": "python",
   "nbconvert_exporter": "python",
   "pygments_lexer": "ipython3",
   "version": "3.8.10"
  }
 },
 "nbformat": 4,
 "nbformat_minor": 4
}

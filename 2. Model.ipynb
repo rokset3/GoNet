{
 "cells": [
  {
   "cell_type": "markdown",
   "id": "20877804-ed9f-4435-95f0-eb5f02e82007",
   "metadata": {},
   "source": [
    "### Model"
   ]
  },
  {
   "cell_type": "code",
   "execution_count": 1,
   "id": "98d86acc-e1a7-4f45-84f5-96b4116d4fb7",
   "metadata": {},
   "outputs": [],
   "source": [
    "from models.batchnorm_model import LSTM, BNLSTMCell"
   ]
  },
  {
   "cell_type": "code",
   "execution_count": 2,
   "id": "7d6e6081-afa7-4b20-9bf4-0b2557be9c60",
   "metadata": {},
   "outputs": [],
   "source": [
    "model = LSTM(cell_class=BNLSTMCell,\n",
    "             input_size=5,\n",
    "             hidden_size=128,\n",
    "             num_layers=2,\n",
    "             use_bias=True,\n",
    "             batch_first=True,\n",
    "             dropout=0.2,\n",
    "             max_length=128)"
   ]
  },
  {
   "cell_type": "markdown",
   "id": "049e1b73-b496-49e7-a67d-951ec2f10079",
   "metadata": {},
   "source": [
    "### Dataset"
   ]
  },
  {
   "cell_type": "code",
   "execution_count": 3,
   "id": "2f38dc56-d68e-4c9e-be6e-ddbb8428f798",
   "metadata": {},
   "outputs": [
    {
     "ename": "NameError",
     "evalue": "name 'load_dataset' is not defined",
     "output_type": "error",
     "traceback": [
      "\u001b[0;31m---------------------------------------------------------------------------\u001b[0m",
      "\u001b[0;31mNameError\u001b[0m                                 Traceback (most recent call last)",
      "Cell \u001b[0;32mIn[3], line 1\u001b[0m\n\u001b[0;32m----> 1\u001b[0m train_ds \u001b[38;5;241m=\u001b[39m \u001b[43mload_dataset\u001b[49m(\u001b[38;5;124m'\u001b[39m\u001b[38;5;124mrokset3/keystrokes136M_normalized_features\u001b[39m\u001b[38;5;124m'\u001b[39m, split\u001b[38;5;241m=\u001b[39m\u001b[38;5;124m'\u001b[39m\u001b[38;5;124mtrain\u001b[39m\u001b[38;5;124m'\u001b[39m)\n",
      "\u001b[0;31mNameError\u001b[0m: name 'load_dataset' is not defined"
     ]
    }
   ],
   "source": [
    "train_ds = load_dataset('rokset3/keystrokes136M_normalized_features', split='train')\n",
    "test_ds = load_dataset('rokset3/')"
   ]
  },
  {
   "cell_type": "code",
   "execution_count": 8,
   "id": "7d2b082d-fc3f-43a4-a2c0-c7f2db9366a1",
   "metadata": {},
   "outputs": [],
   "source": [
    "sample = train_ds.select(range(0,10000))"
   ]
  },
  {
   "cell_type": "markdown",
   "id": "6f3143f4-3cea-4c3f-b861-b9670d678579",
   "metadata": {},
   "source": [
    "### Model itself"
   ]
  },
  {
   "cell_type": "code",
   "execution_count": null,
   "id": "f78bbdbd-b7e8-421f-9195-20efc04cef76",
   "metadata": {},
   "outputs": [],
   "source": []
  }
 ],
 "metadata": {
  "kernelspec": {
   "display_name": "temirlan_dev",
   "language": "python",
   "name": "temirlan_dev"
  },
  "language_info": {
   "codemirror_mode": {
    "name": "ipython",
    "version": 3
   },
   "file_extension": ".py",
   "mimetype": "text/x-python",
   "name": "python",
   "nbconvert_exporter": "python",
   "pygments_lexer": "ipython3",
   "version": "3.8.10"
  }
 },
 "nbformat": 4,
 "nbformat_minor": 5
}
